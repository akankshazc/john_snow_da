{
 "cells": [
  {
   "cell_type": "code",
   "execution_count": 84,
   "metadata": {},
   "outputs": [],
   "source": [
    "import pandas as pd\n",
    "import matplotlib.pyplot as plt\n",
    "import numpy as np\n",
    "from datetime import date, timedelta"
   ]
  },
  {
   "cell_type": "markdown",
   "metadata": {},
   "source": [
    "#### The following tables and data is from the \"On the Mode of Communication of Cholera (2nd edition)\" by Dr. John Snow. (published in 1854)"
   ]
  },
  {
   "cell_type": "markdown",
   "metadata": {},
   "source": [
    "##### Table 1: broad street outbreak mortality 1854"
   ]
  },
  {
   "cell_type": "code",
   "execution_count": 85,
   "metadata": {},
   "outputs": [],
   "source": [
    "start_date = date(1854,8,19)\n",
    "end_date = date(1854,10,1)\n",
    "dates = list(pd.date_range(start_date, end_date-timedelta(days=1),freq='d').astype('str'))\n",
    "dates.append('Unknown Date')"
   ]
  },
  {
   "cell_type": "code",
   "execution_count": 86,
   "metadata": {},
   "outputs": [
    {
     "data": {
      "text/plain": [
       "616"
      ]
     },
     "execution_count": 86,
     "metadata": {},
     "output_type": "execute_result"
    }
   ],
   "source": [
    "number_of_fatal_attacks = [1,1,1,0,1,1,0,1,1,1,1,8,56,143,116,54,46,36,20,28,12,11,5,5,1,3,0,1,4,2,3,0,0,2,1,1,1,1,1,1,0,0,0,45]\n",
    "\n",
    "# Sanity Check\n",
    "pd.Series(number_of_fatal_attacks).sum()"
   ]
  },
  {
   "cell_type": "code",
   "execution_count": 87,
   "metadata": {},
   "outputs": [
    {
     "data": {
      "text/plain": [
       "616"
      ]
     },
     "execution_count": 87,
     "metadata": {},
     "output_type": "execute_result"
    }
   ],
   "source": [
    "deaths = [1,0,2,0,0,2,0,0,1,0,1,2,3,70,127,76,71,45,37,32,30,24,18,15,6,13,6,8,6,5,2,3,0,0,2,3,0,0,2,0,2,1,0,0]\n",
    "\n",
    "# check\n",
    "pd.Series(deaths).sum()"
   ]
  },
  {
   "cell_type": "code",
   "execution_count": 88,
   "metadata": {},
   "outputs": [
    {
     "data": {
      "text/html": [
       "<div>\n",
       "<style scoped>\n",
       "    .dataframe tbody tr th:only-of-type {\n",
       "        vertical-align: middle;\n",
       "    }\n",
       "\n",
       "    .dataframe tbody tr th {\n",
       "        vertical-align: top;\n",
       "    }\n",
       "\n",
       "    .dataframe thead th {\n",
       "        text-align: right;\n",
       "    }\n",
       "</style>\n",
       "<table border=\"1\" class=\"dataframe\">\n",
       "  <thead>\n",
       "    <tr style=\"text-align: right;\">\n",
       "      <th></th>\n",
       "      <th>Date</th>\n",
       "      <th>No. of Fatal Attacks</th>\n",
       "      <th>Deaths</th>\n",
       "    </tr>\n",
       "  </thead>\n",
       "  <tbody>\n",
       "    <tr>\n",
       "      <th>1</th>\n",
       "      <td>1854-08-19</td>\n",
       "      <td>1</td>\n",
       "      <td>1</td>\n",
       "    </tr>\n",
       "    <tr>\n",
       "      <th>2</th>\n",
       "      <td>1854-08-20</td>\n",
       "      <td>1</td>\n",
       "      <td>0</td>\n",
       "    </tr>\n",
       "    <tr>\n",
       "      <th>3</th>\n",
       "      <td>1854-08-21</td>\n",
       "      <td>1</td>\n",
       "      <td>2</td>\n",
       "    </tr>\n",
       "    <tr>\n",
       "      <th>4</th>\n",
       "      <td>1854-08-22</td>\n",
       "      <td>0</td>\n",
       "      <td>0</td>\n",
       "    </tr>\n",
       "    <tr>\n",
       "      <th>5</th>\n",
       "      <td>1854-08-23</td>\n",
       "      <td>1</td>\n",
       "      <td>0</td>\n",
       "    </tr>\n",
       "  </tbody>\n",
       "</table>\n",
       "</div>"
      ],
      "text/plain": [
       "         Date  No. of Fatal Attacks  Deaths\n",
       "1  1854-08-19                     1       1\n",
       "2  1854-08-20                     1       0\n",
       "3  1854-08-21                     1       2\n",
       "4  1854-08-22                     0       0\n",
       "5  1854-08-23                     1       0"
      ]
     },
     "execution_count": 88,
     "metadata": {},
     "output_type": "execute_result"
    }
   ],
   "source": [
    "# creating the dataframe with index as the day count\n",
    "table_1_df = pd.DataFrame({'Date': dates,\n",
    "                            'No. of Fatal Attacks': number_of_fatal_attacks,\n",
    "                           'Deaths': deaths}, index=range(1,45))\n",
    "table_1_df.head()"
   ]
  },
  {
   "cell_type": "code",
   "execution_count": 89,
   "metadata": {},
   "outputs": [
    {
     "data": {
      "image/png": "[encoded data removed]",
      "text/plain": [
       "<Figure size 1000x400 with 1 Axes>"
      ]
     },
     "metadata": {},
     "output_type": "display_data"
    }
   ],
   "source": [
    "# plot\n",
    "\n",
    "fig, ax = plt.subplots(figsize=(10,4))\n",
    "\n",
    "ax.plot(table_1_df['Deaths'][:-1], label='Deaths', color='red')\n",
    "ax.plot(table_1_df['No. of Fatal Attacks'][:-1], label='Fatal attacks', color='purple')\n",
    "ax.set_title('Table 1: Broad Street Outbreak mortality, 1854')\n",
    "ax.set_xlabel('Day number (starting August 19)')\n",
    "\n",
    "ax.set_xticks(range(1,44,2))\n",
    "ax.legend()\n",
    "\n",
    "plt.show()"
   ]
  },
  {
   "cell_type": "markdown",
   "metadata": {},
   "source": [
    "The pump handle was removed on the moring of september 8th. that is day 21, well past the peak of the outbreak. "
   ]
  },
  {
   "cell_type": "markdown",
   "metadata": {},
   "source": [
    "note that we did not include the 45 fatalities whose attack date is not known but death dates are known. "
   ]
  },
  {
   "cell_type": "markdown",
   "metadata": {},
   "source": [
    "##### table 2: 1832 water supply and cholera deaths by districts\n",
    "\n"
   ]
  },
  {
   "cell_type": "markdown",
   "metadata": {},
   "source": [
    "##### table 3: 1849 water supply and cholera deaths by districts\n"
   ]
  },
  {
   "cell_type": "markdown",
   "metadata": {},
   "source": [
    "\n",
    "##### table 4: death in southvark, lambeth and kent areas\n"
   ]
  },
  {
   "cell_type": "markdown",
   "metadata": {},
   "source": [
    "\n",
    "##### table 5: weekly return of birth and death in december 1853 when cholera had mostly disappeared\n"
   ]
  },
  {
   "cell_type": "markdown",
   "metadata": {},
   "source": [
    "\n",
    "##### table 6: august 1853 to jan 1854 southvark vs lambeth deaths\n"
   ]
  },
  {
   "cell_type": "markdown",
   "metadata": {},
   "source": [
    "\n",
    "##### table 7: mortality from cholera in four weeks ending 5 august 1853\n"
   ]
  },
  {
   "cell_type": "markdown",
   "metadata": {},
   "source": [
    "\n",
    "##### table 8: mortality from cholera in four weeks ending 26 august 1853\n"
   ]
  },
  {
   "cell_type": "markdown",
   "metadata": {},
   "source": [
    "\n",
    "##### table 9: southvark vs lambeth deaths during the first seven weeks of the epidemic of 1853\n"
   ]
  },
  {
   "cell_type": "code",
   "execution_count": 90,
   "metadata": {},
   "outputs": [
    {
     "data": {
      "text/html": [
       "<div>\n",
       "<style scoped>\n",
       "    .dataframe tbody tr th:only-of-type {\n",
       "        vertical-align: middle;\n",
       "    }\n",
       "\n",
       "    .dataframe tbody tr th {\n",
       "        vertical-align: top;\n",
       "    }\n",
       "\n",
       "    .dataframe thead th {\n",
       "        text-align: right;\n",
       "    }\n",
       "</style>\n",
       "<table border=\"1\" class=\"dataframe\">\n",
       "  <thead>\n",
       "    <tr style=\"text-align: right;\">\n",
       "      <th></th>\n",
       "      <th>Number of houses</th>\n",
       "      <th>Deaths from Cholera</th>\n",
       "      <th>Deaths in each 10000 houses</th>\n",
       "    </tr>\n",
       "  </thead>\n",
       "  <tbody>\n",
       "    <tr>\n",
       "      <th>Southvark and Vauxhall Company</th>\n",
       "      <td>40046</td>\n",
       "      <td>1263</td>\n",
       "      <td>315</td>\n",
       "    </tr>\n",
       "    <tr>\n",
       "      <th>Lambeth Company</th>\n",
       "      <td>26107</td>\n",
       "      <td>98</td>\n",
       "      <td>37</td>\n",
       "    </tr>\n",
       "    <tr>\n",
       "      <th>Rest of London</th>\n",
       "      <td>256423</td>\n",
       "      <td>1422</td>\n",
       "      <td>59</td>\n",
       "    </tr>\n",
       "  </tbody>\n",
       "</table>\n",
       "</div>"
      ],
      "text/plain": [
       "                                Number of houses  Deaths from Cholera  \\\n",
       "Southvark and Vauxhall Company             40046                 1263   \n",
       "Lambeth Company                            26107                   98   \n",
       "Rest of London                            256423                 1422   \n",
       "\n",
       "                                Deaths in each 10000 houses  \n",
       "Southvark and Vauxhall Company                          315  \n",
       "Lambeth Company                                          37  \n",
       "Rest of London                                           59  "
      ]
     },
     "execution_count": 90,
     "metadata": {},
     "output_type": "execute_result"
    }
   ],
   "source": [
    "number_of_houses = [40046, 26107, 256423]\n",
    "deaths_from_cholera = [1263,98,1422]\n",
    "deaths_in_each_10000_houses = [315, 37, 59]\n",
    "\n",
    "table_9_df = pd.DataFrame({'Number of houses': number_of_houses,\n",
    "              'Deaths from Cholera': deaths_from_cholera,\n",
    "              'Deaths in each 10000 houses': deaths_in_each_10000_houses},\n",
    "              index=['Southvark and Vauxhall Company', 'Lambeth Company', 'Rest of London'])\n",
    "\n",
    "table_9_df"
   ]
  },
  {
   "cell_type": "code",
   "execution_count": 91,
   "metadata": {},
   "outputs": [
    {
     "data": {
      "text/html": [
       "<div>\n",
       "<style scoped>\n",
       "    .dataframe tbody tr th:only-of-type {\n",
       "        vertical-align: middle;\n",
       "    }\n",
       "\n",
       "    .dataframe tbody tr th {\n",
       "        vertical-align: top;\n",
       "    }\n",
       "\n",
       "    .dataframe thead th {\n",
       "        text-align: right;\n",
       "    }\n",
       "</style>\n",
       "<table border=\"1\" class=\"dataframe\">\n",
       "  <thead>\n",
       "    <tr style=\"text-align: right;\">\n",
       "      <th></th>\n",
       "      <th>Number of houses</th>\n",
       "      <th>Deaths from Cholera</th>\n",
       "      <th>Deaths in each 10000 houses</th>\n",
       "      <th>check death proportion</th>\n",
       "    </tr>\n",
       "  </thead>\n",
       "  <tbody>\n",
       "    <tr>\n",
       "      <th>Southvark and Vauxhall Company</th>\n",
       "      <td>40046</td>\n",
       "      <td>1263</td>\n",
       "      <td>315</td>\n",
       "      <td>315.387305</td>\n",
       "    </tr>\n",
       "    <tr>\n",
       "      <th>Lambeth Company</th>\n",
       "      <td>26107</td>\n",
       "      <td>98</td>\n",
       "      <td>37</td>\n",
       "      <td>37.537825</td>\n",
       "    </tr>\n",
       "    <tr>\n",
       "      <th>Rest of London</th>\n",
       "      <td>256423</td>\n",
       "      <td>1422</td>\n",
       "      <td>59</td>\n",
       "      <td>55.455244</td>\n",
       "    </tr>\n",
       "  </tbody>\n",
       "</table>\n",
       "</div>"
      ],
      "text/plain": [
       "                                Number of houses  Deaths from Cholera  \\\n",
       "Southvark and Vauxhall Company             40046                 1263   \n",
       "Lambeth Company                            26107                   98   \n",
       "Rest of London                            256423                 1422   \n",
       "\n",
       "                                Deaths in each 10000 houses  \\\n",
       "Southvark and Vauxhall Company                          315   \n",
       "Lambeth Company                                          37   \n",
       "Rest of London                                           59   \n",
       "\n",
       "                                check death proportion  \n",
       "Southvark and Vauxhall Company              315.387305  \n",
       "Lambeth Company                              37.537825  \n",
       "Rest of London                               55.455244  "
      ]
     },
     "execution_count": 91,
     "metadata": {},
     "output_type": "execute_result"
    }
   ],
   "source": [
    "table_9_df_check = table_9_df.copy()\n",
    "\n",
    "table_9_df_check['check death proportion'] = (table_9_df_check['Deaths from Cholera'] / table_9_df_check['Number of houses']) * 10000\n",
    "\n",
    "table_9_df_check"
   ]
  },
  {
   "cell_type": "markdown",
   "metadata": {},
   "source": [
    "the last entry does not match. i wonder why?"
   ]
  },
  {
   "cell_type": "markdown",
   "metadata": {},
   "source": [
    "\n",
    "##### table 10: sourthvark vs lambeth deaths during the next seven weeks of the epidemic of 1853 (three other companies included)\n"
   ]
  },
  {
   "cell_type": "code",
   "execution_count": 92,
   "metadata": {},
   "outputs": [],
   "source": [
    "start_date = date(1854,9,2)\n",
    "end_date = date(1854,10,15)\n",
    "week_ending = pd.date_range(start_date,periods=7,freq='7d')"
   ]
  },
  {
   "cell_type": "code",
   "execution_count": 93,
   "metadata": {},
   "outputs": [],
   "source": [
    "total_deaths_from_cholera = [670, 972, 856, 724, 383, 200, 115]\n",
    "southvark_deaths = [399, 580, 524, 432, 228, 121, 69]\n",
    "lambeth_deaths = [45, 72, 66, 72, 25, 14, 8]\n",
    "kent_deaths = [38, 45, 48, 28, 19, 10, 3]\n",
    "pumps_and_other_deaths = [72, 62, 44, 62, 24, 9, 6]\n",
    "uncertain_source_deaths = [116, 213, 174, 130, 87, 46, 29]"
   ]
  },
  {
   "cell_type": "code",
   "execution_count": 94,
   "metadata": {},
   "outputs": [
    {
     "data": {
      "text/html": [
       "<div>\n",
       "<style scoped>\n",
       "    .dataframe tbody tr th:only-of-type {\n",
       "        vertical-align: middle;\n",
       "    }\n",
       "\n",
       "    .dataframe tbody tr th {\n",
       "        vertical-align: top;\n",
       "    }\n",
       "\n",
       "    .dataframe thead th {\n",
       "        text-align: right;\n",
       "    }\n",
       "</style>\n",
       "<table border=\"1\" class=\"dataframe\">\n",
       "  <thead>\n",
       "    <tr style=\"text-align: right;\">\n",
       "      <th></th>\n",
       "      <th>Deaths from Cholera</th>\n",
       "      <th>Southvark and Vauxhall</th>\n",
       "      <th>Lambeth</th>\n",
       "      <th>Kent Company</th>\n",
       "      <th>Pumps and other sources</th>\n",
       "      <th>Not ascertained</th>\n",
       "    </tr>\n",
       "  </thead>\n",
       "  <tbody>\n",
       "    <tr>\n",
       "      <th>1854-09-02</th>\n",
       "      <td>670</td>\n",
       "      <td>399</td>\n",
       "      <td>45</td>\n",
       "      <td>38</td>\n",
       "      <td>72</td>\n",
       "      <td>116</td>\n",
       "    </tr>\n",
       "    <tr>\n",
       "      <th>1854-09-09</th>\n",
       "      <td>972</td>\n",
       "      <td>580</td>\n",
       "      <td>72</td>\n",
       "      <td>45</td>\n",
       "      <td>62</td>\n",
       "      <td>213</td>\n",
       "    </tr>\n",
       "    <tr>\n",
       "      <th>1854-09-16</th>\n",
       "      <td>856</td>\n",
       "      <td>524</td>\n",
       "      <td>66</td>\n",
       "      <td>48</td>\n",
       "      <td>44</td>\n",
       "      <td>174</td>\n",
       "    </tr>\n",
       "    <tr>\n",
       "      <th>1854-09-23</th>\n",
       "      <td>724</td>\n",
       "      <td>432</td>\n",
       "      <td>72</td>\n",
       "      <td>28</td>\n",
       "      <td>62</td>\n",
       "      <td>130</td>\n",
       "    </tr>\n",
       "    <tr>\n",
       "      <th>1854-09-30</th>\n",
       "      <td>383</td>\n",
       "      <td>228</td>\n",
       "      <td>25</td>\n",
       "      <td>19</td>\n",
       "      <td>24</td>\n",
       "      <td>87</td>\n",
       "    </tr>\n",
       "    <tr>\n",
       "      <th>1854-10-07</th>\n",
       "      <td>200</td>\n",
       "      <td>121</td>\n",
       "      <td>14</td>\n",
       "      <td>10</td>\n",
       "      <td>9</td>\n",
       "      <td>46</td>\n",
       "    </tr>\n",
       "    <tr>\n",
       "      <th>1854-10-14</th>\n",
       "      <td>115</td>\n",
       "      <td>69</td>\n",
       "      <td>8</td>\n",
       "      <td>3</td>\n",
       "      <td>6</td>\n",
       "      <td>29</td>\n",
       "    </tr>\n",
       "  </tbody>\n",
       "</table>\n",
       "</div>"
      ],
      "text/plain": [
       "            Deaths from Cholera  Southvark and Vauxhall  Lambeth  \\\n",
       "1854-09-02                  670                     399       45   \n",
       "1854-09-09                  972                     580       72   \n",
       "1854-09-16                  856                     524       66   \n",
       "1854-09-23                  724                     432       72   \n",
       "1854-09-30                  383                     228       25   \n",
       "1854-10-07                  200                     121       14   \n",
       "1854-10-14                  115                      69        8   \n",
       "\n",
       "            Kent Company  Pumps and other sources  Not ascertained  \n",
       "1854-09-02            38                       72              116  \n",
       "1854-09-09            45                       62              213  \n",
       "1854-09-16            48                       44              174  \n",
       "1854-09-23            28                       62              130  \n",
       "1854-09-30            19                       24               87  \n",
       "1854-10-07            10                        9               46  \n",
       "1854-10-14             3                        6               29  "
      ]
     },
     "execution_count": 94,
     "metadata": {},
     "output_type": "execute_result"
    }
   ],
   "source": [
    "table_10_df = pd.DataFrame({'Deaths from Cholera': total_deaths_from_cholera,\n",
    "              'Southvark and Vauxhall': southvark_deaths,\n",
    "              'Lambeth': lambeth_deaths,\n",
    "              'Kent Company': kent_deaths,\n",
    "              'Pumps and other sources': pumps_and_other_deaths,\n",
    "              'Not ascertained': uncertain_source_deaths},\n",
    "              index=week_ending)\n",
    "\n",
    "table_10_df"
   ]
  },
  {
   "cell_type": "code",
   "execution_count": 95,
   "metadata": {},
   "outputs": [
    {
     "data": {
      "text/html": [
       "<div>\n",
       "<style scoped>\n",
       "    .dataframe tbody tr th:only-of-type {\n",
       "        vertical-align: middle;\n",
       "    }\n",
       "\n",
       "    .dataframe tbody tr th {\n",
       "        vertical-align: top;\n",
       "    }\n",
       "\n",
       "    .dataframe thead th {\n",
       "        text-align: right;\n",
       "    }\n",
       "</style>\n",
       "<table border=\"1\" class=\"dataframe\">\n",
       "  <thead>\n",
       "    <tr style=\"text-align: right;\">\n",
       "      <th></th>\n",
       "      <th>Deaths from Cholera</th>\n",
       "      <th>Total Deaths</th>\n",
       "    </tr>\n",
       "  </thead>\n",
       "  <tbody>\n",
       "    <tr>\n",
       "      <th>1854-09-02</th>\n",
       "      <td>670</td>\n",
       "      <td>670</td>\n",
       "    </tr>\n",
       "    <tr>\n",
       "      <th>1854-09-09</th>\n",
       "      <td>972</td>\n",
       "      <td>972</td>\n",
       "    </tr>\n",
       "    <tr>\n",
       "      <th>1854-09-16</th>\n",
       "      <td>856</td>\n",
       "      <td>856</td>\n",
       "    </tr>\n",
       "    <tr>\n",
       "      <th>1854-09-23</th>\n",
       "      <td>724</td>\n",
       "      <td>724</td>\n",
       "    </tr>\n",
       "    <tr>\n",
       "      <th>1854-09-30</th>\n",
       "      <td>383</td>\n",
       "      <td>383</td>\n",
       "    </tr>\n",
       "    <tr>\n",
       "      <th>1854-10-07</th>\n",
       "      <td>200</td>\n",
       "      <td>200</td>\n",
       "    </tr>\n",
       "    <tr>\n",
       "      <th>1854-10-14</th>\n",
       "      <td>115</td>\n",
       "      <td>115</td>\n",
       "    </tr>\n",
       "  </tbody>\n",
       "</table>\n",
       "</div>"
      ],
      "text/plain": [
       "            Deaths from Cholera  Total Deaths\n",
       "1854-09-02                  670           670\n",
       "1854-09-09                  972           972\n",
       "1854-09-16                  856           856\n",
       "1854-09-23                  724           724\n",
       "1854-09-30                  383           383\n",
       "1854-10-07                  200           200\n",
       "1854-10-14                  115           115"
      ]
     },
     "execution_count": 95,
     "metadata": {},
     "output_type": "execute_result"
    }
   ],
   "source": [
    "table_10_df_check = table_10_df.copy()\n",
    "\n",
    "table_10_df_check['Total Deaths'] = table_10_df_check['Southvark and Vauxhall'] + table_10_df_check['Lambeth'] + table_10_df_check['Kent Company'] + table_10_df_check['Pumps and other sources'] + table_10_df_check['Not ascertained']\n",
    "\n",
    "table_10_df_check[['Deaths from Cholera', 'Total Deaths']]"
   ]
  },
  {
   "cell_type": "markdown",
   "metadata": {},
   "source": [
    "the following sums match the last row of the table."
   ]
  },
  {
   "cell_type": "code",
   "execution_count": 96,
   "metadata": {},
   "outputs": [
    {
     "data": {
      "text/plain": [
       "Deaths from Cholera        3920\n",
       "Southvark and Vauxhall     2353\n",
       "Lambeth                     302\n",
       "Kent Company                191\n",
       "Pumps and other sources     279\n",
       "Not ascertained             795\n",
       "Total Deaths               3920\n",
       "dtype: int64"
      ]
     },
     "execution_count": 96,
     "metadata": {},
     "output_type": "execute_result"
    }
   ],
   "source": [
    "table_10_df_check.sum()"
   ]
  },
  {
   "cell_type": "markdown",
   "metadata": {},
   "source": [
    "\n",
    "##### table 11: combination of table 7,8 and 10 to calculate deaths in 14 weeks of the epidemic, ending october 14\n"
   ]
  },
  {
   "cell_type": "markdown",
   "metadata": {},
   "source": [
    "\n",
    "##### table 12: comparision of deaths in london subdistricts in 1849 and 1854 by water company\n"
   ]
  },
  {
   "cell_type": "markdown",
   "metadata": {},
   "source": [
    "\n",
    "##### table 13: 1854 epidemic, 15 weeks ending october 21, death comparision by chealsea water company and southvark water company. \n"
   ]
  },
  {
   "cell_type": "markdown",
   "metadata": {},
   "source": [
    "\n",
    "##### unnumbered table: showing london and other city populations that were hit by the epidemic\n"
   ]
  },
  {
   "cell_type": "code",
   "execution_count": 97,
   "metadata": {},
   "outputs": [],
   "source": [
    "number_of_places = [52, 43, 33, 34]\n",
    "duration_in_days = ['0 to 50', '50 to 100', '100 and upwards', '100 and upwards']\n",
    "average_population = [6624, 12624, 38123, 78823]"
   ]
  },
  {
   "cell_type": "markdown",
   "metadata": {},
   "source": [
    "note: its misprinted in the digital pamplet '50 to 100000' instead of '50 to 100'"
   ]
  },
  {
   "cell_type": "code",
   "execution_count": 98,
   "metadata": {},
   "outputs": [
    {
     "data": {
      "text/html": [
       "<div>\n",
       "<style scoped>\n",
       "    .dataframe tbody tr th:only-of-type {\n",
       "        vertical-align: middle;\n",
       "    }\n",
       "\n",
       "    .dataframe tbody tr th {\n",
       "        vertical-align: top;\n",
       "    }\n",
       "\n",
       "    .dataframe thead th {\n",
       "        text-align: right;\n",
       "    }\n",
       "</style>\n",
       "<table border=\"1\" class=\"dataframe\">\n",
       "  <thead>\n",
       "    <tr style=\"text-align: right;\">\n",
       "      <th></th>\n",
       "      <th>No. of Places</th>\n",
       "      <th>Duration in Days</th>\n",
       "      <th>Average Population</th>\n",
       "    </tr>\n",
       "  </thead>\n",
       "  <tbody>\n",
       "    <tr>\n",
       "      <th>0</th>\n",
       "      <td>52</td>\n",
       "      <td>0 to 50</td>\n",
       "      <td>6624</td>\n",
       "    </tr>\n",
       "    <tr>\n",
       "      <th>1</th>\n",
       "      <td>43</td>\n",
       "      <td>50 to 100</td>\n",
       "      <td>12624</td>\n",
       "    </tr>\n",
       "    <tr>\n",
       "      <th>2</th>\n",
       "      <td>33</td>\n",
       "      <td>100 and upwards</td>\n",
       "      <td>38123</td>\n",
       "    </tr>\n",
       "    <tr>\n",
       "      <th>3</th>\n",
       "      <td>34</td>\n",
       "      <td>100 and upwards</td>\n",
       "      <td>78823</td>\n",
       "    </tr>\n",
       "  </tbody>\n",
       "</table>\n",
       "</div>"
      ],
      "text/plain": [
       "   No. of Places Duration in Days  Average Population\n",
       "0             52          0 to 50                6624\n",
       "1             43        50 to 100               12624\n",
       "2             33  100 and upwards               38123\n",
       "3             34  100 and upwards               78823"
      ]
     },
     "execution_count": 98,
     "metadata": {},
     "output_type": "execute_result"
    }
   ],
   "source": [
    "table_13_1_df = pd.DataFrame({'No. of Places': number_of_places,\n",
    "              'Duration in Days': duration_in_days,\n",
    "              'Average Population': average_population})\n",
    "\n",
    "table_13_1_df"
   ]
  },
  {
   "cell_type": "markdown",
   "metadata": {},
   "source": [
    "\n",
    "##### table 14: cholera deaths by occupation (which year? 1854?)\n",
    "\n"
   ]
  },
  {
   "cell_type": "code",
   "execution_count": 99,
   "metadata": {},
   "outputs": [],
   "source": [
    "index = ['Agents', 'Bricklayers and builders', 'Cowkeepers, dairymen, and milkmen', 'Egg merchants', \n",
    "         'Fishmongers','Fruiterers and greengrocers', 'Jobmasters, livery-stable keepers', 'Oilmen', \n",
    "         'Paper-makers', 'Poulterers', 'Sail-makers', 'Turners', 'Ballast-heavers', \n",
    "         'Coal-porters and coal-heavers', 'Dustmen and scavengers', 'Founders', 'Hawkers, etc', \n",
    "         'Lithographers', 'Modellers', 'Polishers', 'Sailors, including Greenwich pensioners', \n",
    "         'Tanners', 'Weavers', 'Physicians, surgeoons & general practioners', \n",
    "         'Magistrates, barristers, conveyancers, and attorneys', 'Merchants', 'Auctioners', \n",
    "         'Saddlers', 'Brass-finishers', 'Coach-makers', 'Cork-cutters',\n",
    "         'Footmen and men-servants', 'Jewellers, goldsmiths, and silversmiths', 'Millwrights',\n",
    "         'Tallow-chandlers', 'Type-founders', 'Undertakers', 'Warehousemen', \n",
    "         'Watchmakers', 'Wheelwrights']\n",
    "\n",
    "no_of_deaths = [12,14,8,5,11,12,5,13,2,3,2,2,7,53,6,10,67,3,3,4,\n",
    "                299,22,102,16,13,11,1,1,3,16,2,25,6,2,2,1,2,8,11,8]\n",
    "\n",
    "ratio_numbers = [49,39,20,6,20,28,37,46,15,32,30,50,24,32,39,12,22,48,41,36,24,39,36,\n",
    "                 265,375,348,266,250,318,262,279,1572,583,266,430,390,325,472,364,294]\n",
    "\n",
    "ratio = [f'1 in {x}' for x in ratio_numbers]"
   ]
  },
  {
   "cell_type": "code",
   "execution_count": 100,
   "metadata": {},
   "outputs": [
    {
     "data": {
      "text/plain": [
       "(40, 40, 40)"
      ]
     },
     "execution_count": 100,
     "metadata": {},
     "output_type": "execute_result"
    }
   ],
   "source": [
    "# sanity check\n",
    "\n",
    "len(index), len(no_of_deaths), len(ratio)"
   ]
  },
  {
   "cell_type": "code",
   "execution_count": 101,
   "metadata": {},
   "outputs": [
    {
     "data": {
      "text/html": [
       "<div>\n",
       "<style scoped>\n",
       "    .dataframe tbody tr th:only-of-type {\n",
       "        vertical-align: middle;\n",
       "    }\n",
       "\n",
       "    .dataframe tbody tr th {\n",
       "        vertical-align: top;\n",
       "    }\n",
       "\n",
       "    .dataframe thead th {\n",
       "        text-align: right;\n",
       "    }\n",
       "</style>\n",
       "<table border=\"1\" class=\"dataframe\">\n",
       "  <thead>\n",
       "    <tr style=\"text-align: right;\">\n",
       "      <th></th>\n",
       "      <th>No. of Deaths</th>\n",
       "      <th>Ratio</th>\n",
       "    </tr>\n",
       "  </thead>\n",
       "  <tbody>\n",
       "    <tr>\n",
       "      <th>Agents</th>\n",
       "      <td>12</td>\n",
       "      <td>1 in 49</td>\n",
       "    </tr>\n",
       "    <tr>\n",
       "      <th>Bricklayers and builders</th>\n",
       "      <td>14</td>\n",
       "      <td>1 in 39</td>\n",
       "    </tr>\n",
       "    <tr>\n",
       "      <th>Cowkeepers, dairymen, and milkmen</th>\n",
       "      <td>8</td>\n",
       "      <td>1 in 20</td>\n",
       "    </tr>\n",
       "    <tr>\n",
       "      <th>Egg merchants</th>\n",
       "      <td>5</td>\n",
       "      <td>1 in 6</td>\n",
       "    </tr>\n",
       "    <tr>\n",
       "      <th>Fishmongers</th>\n",
       "      <td>11</td>\n",
       "      <td>1 in 20</td>\n",
       "    </tr>\n",
       "  </tbody>\n",
       "</table>\n",
       "</div>"
      ],
      "text/plain": [
       "                                   No. of Deaths    Ratio\n",
       "Agents                                        12  1 in 49\n",
       "Bricklayers and builders                      14  1 in 39\n",
       "Cowkeepers, dairymen, and milkmen              8  1 in 20\n",
       "Egg merchants                                  5   1 in 6\n",
       "Fishmongers                                   11  1 in 20"
      ]
     },
     "execution_count": 101,
     "metadata": {},
     "output_type": "execute_result"
    }
   ],
   "source": [
    "table_14_df = pd.DataFrame({'No. of Deaths': no_of_deaths,\n",
    "              'Ratio': ratio}, index=index)\n",
    "\n",
    "table_14_df.head()"
   ]
  },
  {
   "cell_type": "code",
   "execution_count": 108,
   "metadata": {},
   "outputs": [],
   "source": [
    "table_14_modified = table_14_df.copy()\n",
    "\n",
    "table_14_modified['Ratio in decimal'] = pd.Series([1/x for x in ratio_numbers])"
   ]
  },
  {
   "cell_type": "code",
   "execution_count": 110,
   "metadata": {},
   "outputs": [
    {
     "name": "stdout",
     "output_type": "stream",
     "text": [
      "<class 'pandas.core.frame.DataFrame'>\n",
      "Index: 40 entries, Agents to Wheelwrights\n",
      "Data columns (total 3 columns):\n",
      " #   Column            Non-Null Count  Dtype  \n",
      "---  ------            --------------  -----  \n",
      " 0   No. of Deaths     40 non-null     int64  \n",
      " 1   Ratio             40 non-null     object \n",
      " 2   Ratio in decimal  0 non-null      float64\n",
      "dtypes: float64(1), int64(1), object(1)\n",
      "memory usage: 1.2+ KB\n"
     ]
    }
   ],
   "source": [
    "table_14_modified.info()"
   ]
  },
  {
   "cell_type": "markdown",
   "metadata": {},
   "source": [
    "why isn't this working?"
   ]
  },
  {
   "cell_type": "markdown",
   "metadata": {},
   "source": []
  }
 ],
 "metadata": {
  "kernelspec": {
   "display_name": "venv",
   "language": "python",
   "name": "python3"
  },
  "language_info": {
   "codemirror_mode": {
    "name": "ipython",
    "version": 3
   },
   "file_extension": ".py",
   "mimetype": "text/x-python",
   "name": "python",
   "nbconvert_exporter": "python",
   "pygments_lexer": "ipython3",
   "version": "3.8.10"
  }
 },
 "nbformat": 4,
 "nbformat_minor": 2
}
