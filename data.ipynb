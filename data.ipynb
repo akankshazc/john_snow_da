{
 "cells": [
  {
   "cell_type": "code",
   "execution_count": 1,
   "metadata": {},
   "outputs": [],
   "source": [
    "import pandas as pd\n",
    "import matplotlib.pyplot as plt\n",
    "import numpy as np\n",
    "from datetime import date"
   ]
  },
  {
   "cell_type": "markdown",
   "metadata": {},
   "source": [
    "#### The following tables and data is from the \"On the Mode of Communication of Cholera (2nd edition)\" by Dr. John Snow. (published in 1854)"
   ]
  },
  {
   "cell_type": "markdown",
   "metadata": {},
   "source": [
    "##### Table 1: broad street outbreak mortality 1854"
   ]
  },
  {
   "cell_type": "code",
   "execution_count": 2,
   "metadata": {},
   "outputs": [],
   "source": [
    "start_date_1 = date(1854,8,19)\n",
    "end_date_1 = date(1854,9,30)\n",
    "dates_1 = list(pd.date_range(start_date_1, end_date_1,freq='d').astype('str'))\n",
    "dates_1.append('Unknown Date')"
   ]
  },
  {
   "cell_type": "code",
   "execution_count": 4,
   "metadata": {},
   "outputs": [
    {
     "data": {
      "text/plain": [
       "616"
      ]
     },
     "execution_count": 4,
     "metadata": {},
     "output_type": "execute_result"
    }
   ],
   "source": [
    "number_of_fatal_attacks_1 = [1,1,1,0,1,1,0,1,1,1,1,8,56,143,116,54,46,36,20,28,12,11,5,5,1,3,0,1,4,2,3,0,0,2,1,1,1,1,1,1,0,0,0,45]\n",
    "\n",
    "# Sanity Check\n",
    "pd.Series(number_of_fatal_attacks_1).sum()"
   ]
  },
  {
   "cell_type": "code",
   "execution_count": 5,
   "metadata": {},
   "outputs": [
    {
     "data": {
      "text/plain": [
       "616"
      ]
     },
     "execution_count": 5,
     "metadata": {},
     "output_type": "execute_result"
    }
   ],
   "source": [
    "deaths_1 = [1,0,2,0,0,2,0,0,1,0,1,2,3,70,127,76,71,45,37,32,30,24,18,15,6,13,6,8,6,5,2,3,0,0,2,3,0,0,2,0,2,1,0,0]\n",
    "\n",
    "# check\n",
    "pd.Series(deaths_1).sum()"
   ]
  },
  {
   "cell_type": "code",
   "execution_count": 6,
   "metadata": {},
   "outputs": [
    {
     "data": {
      "text/html": [
       "<div>\n",
       "<style scoped>\n",
       "    .dataframe tbody tr th:only-of-type {\n",
       "        vertical-align: middle;\n",
       "    }\n",
       "\n",
       "    .dataframe tbody tr th {\n",
       "        vertical-align: top;\n",
       "    }\n",
       "\n",
       "    .dataframe thead th {\n",
       "        text-align: right;\n",
       "    }\n",
       "</style>\n",
       "<table border=\"1\" class=\"dataframe\">\n",
       "  <thead>\n",
       "    <tr style=\"text-align: right;\">\n",
       "      <th></th>\n",
       "      <th>Date</th>\n",
       "      <th>No. of Fatal Attacks</th>\n",
       "      <th>Deaths</th>\n",
       "    </tr>\n",
       "  </thead>\n",
       "  <tbody>\n",
       "    <tr>\n",
       "      <th>1</th>\n",
       "      <td>1854-08-19</td>\n",
       "      <td>1</td>\n",
       "      <td>1</td>\n",
       "    </tr>\n",
       "    <tr>\n",
       "      <th>2</th>\n",
       "      <td>1854-08-20</td>\n",
       "      <td>1</td>\n",
       "      <td>0</td>\n",
       "    </tr>\n",
       "    <tr>\n",
       "      <th>3</th>\n",
       "      <td>1854-08-21</td>\n",
       "      <td>1</td>\n",
       "      <td>2</td>\n",
       "    </tr>\n",
       "    <tr>\n",
       "      <th>4</th>\n",
       "      <td>1854-08-22</td>\n",
       "      <td>0</td>\n",
       "      <td>0</td>\n",
       "    </tr>\n",
       "    <tr>\n",
       "      <th>5</th>\n",
       "      <td>1854-08-23</td>\n",
       "      <td>1</td>\n",
       "      <td>0</td>\n",
       "    </tr>\n",
       "  </tbody>\n",
       "</table>\n",
       "</div>"
      ],
      "text/plain": [
       "         Date  No. of Fatal Attacks  Deaths\n",
       "1  1854-08-19                     1       1\n",
       "2  1854-08-20                     1       0\n",
       "3  1854-08-21                     1       2\n",
       "4  1854-08-22                     0       0\n",
       "5  1854-08-23                     1       0"
      ]
     },
     "execution_count": 6,
     "metadata": {},
     "output_type": "execute_result"
    }
   ],
   "source": [
    "# creating the dataframe with index as the day count\n",
    "table_1_df = pd.DataFrame({'Date': dates_1,\n",
    "                            'No. of Fatal Attacks': number_of_fatal_attacks_1,\n",
    "                           'Deaths': deaths_1}, index=range(1,45))\n",
    "table_1_df.head()"
   ]
  },
  {
   "cell_type": "code",
   "execution_count": 7,
   "metadata": {},
   "outputs": [
    {
     "data": {
      "image/png": "[encoded data removed]",
      "text/plain": [
       "<Figure size 1000x400 with 1 Axes>"
      ]
     },
     "metadata": {},
     "output_type": "display_data"
    }
   ],
   "source": [
    "# plot\n",
    "\n",
    "fig, ax = plt.subplots(figsize=(10,4))\n",
    "\n",
    "ax.plot(table_1_df['Deaths'][:-1], label='Deaths', color='red')\n",
    "ax.plot(table_1_df['No. of Fatal Attacks'][:-1], label='Fatal attacks', color='purple')\n",
    "ax.set_title('Table 1: Broad Street Outbreak mortality, 1854')\n",
    "ax.set_xlabel('Day number (starting August 19)')\n",
    "\n",
    "ax.set_xticks(range(1,44,2))\n",
    "ax.legend()\n",
    "\n",
    "plt.show()"
   ]
  },
  {
   "cell_type": "markdown",
   "metadata": {},
   "source": [
    "The pump handle was removed on the moring of september 8th. that is day 21, well past the peak of the outbreak. "
   ]
  },
  {
   "cell_type": "markdown",
   "metadata": {},
   "source": [
    "note that we did not include the 45 fatalities whose attack date is not known but death dates are known. "
   ]
  },
  {
   "cell_type": "markdown",
   "metadata": {},
   "source": [
    "##### table 2: 1832 water supply and cholera deaths by districts\n",
    "\n"
   ]
  },
  {
   "cell_type": "markdown",
   "metadata": {},
   "source": [
    "so in this table the first three subdistricts are combined in terms of the numbers. we can't have a different entry for them because that would imply that all three have a population of 77 thousand. "
   ]
  },
  {
   "cell_type": "code",
   "execution_count": 8,
   "metadata": {},
   "outputs": [],
   "source": [
    "districts_2 = [\"St. George the Martyr, Southwark, St. Olave's, Southwark, St. Saviour's, Southwark\",\n",
    "                   \"Christchurch, Southwark\", \"Lambeth\", \"Newington\", \"Camberwell\", \"Bermondsey\", \"Rotherhithe\",\n",
    "                   \"Bethnal Green\", \"St. George-in-the-East\", \"Poplar\", \"Stepney\", \"Whitechapel*\",\n",
    "                   \"Clerkenwell\", \"St. Giles\", \"Holborn\", \"Islington\", \"London City\", \"East and West London\",\n",
    "                   \"St. Luke's\", \"Strand\", \"Hackney\", \"Shoreditch\", \"Westminster\", \"St. George, Hanover Square\", \n",
    "                   \"Kensington\", \"St. Marylebone\", \"St. Pancras\"]\n",
    "\n",
    "population_2 = [77796,13705,87856,44526,28231,29741,12875,62018,38505,25066,78826,52848,\n",
    "                47674,52907,27334,37316,55798,pd.NA,46642,9937,7326,68564,124585,58209,\n",
    "                75130,122206,103548]\n",
    "\n",
    "deaths_2 = [856,35,337,200,107,210,19,170,123,107,225,470,65,280,46,39,359,pd.NA,118,37,8,57,325,74,134,224,111]\n",
    "\n",
    "deaths_in_10000_living_2 = [110,25,38,45,37,70,14,27,31,42,28,88,13,52,16,10,64,pd.NA,25,37,10,8,26,12,17,20,10]\n",
    "\n",
    "water_supply_2 = [\"Southwark Water Works, from Thames at London Bridge. No filter or settling reservoir.\",\n",
    "                \"Chiefly by Lambeth Water Works, from Thames opposite Hungerford Market. No filter or settling reservoir.\",\n",
    "                \"Chiefly by Lambeth Water Works, from Thames opposite Hungerford Market. No filter or settling reservoir.\",\n",
    "                \"Chiefly by South London Water Works, from Thames at Vauxhall Bridge. Reservoirs. No filter.\",\n",
    "                \"Chiefly by South London Water Works, from Thames at Vauxhall Bridge. Reservoirs. No filter.\",\n",
    "                \"South London Water Works, and Tidal Ditches.\", \"South London Water Works, and Tidal Ditches.\",\n",
    "                \"East London Water Works, from tidal part of river Lea at Old Ford.\",\n",
    "                \"East London Water Works, from tidal part of river Lea at Old Ford.\"\n",
    "                ,\"East London Water Works, from tidal part of river Lea at Old Ford.\",\n",
    "                \"East London Water Works, from tidal part of river Lea at Old Ford.\",\n",
    "                \"East London Water Works, from tidal part of river Lea at Old Ford.\",\n",
    "                \"New River Company, from various springs, and river Lea in Hertfordshire; and occasionally from Thames at Broken Wharf, near Blackfriar's Bridge.\",\n",
    "                \"New River Company, from various springs, and river Lea in Hertfordshire; and occasionally from Thames at Broken Wharf, near Blackfriar's Bridge.\",\n",
    "                \"New River Company, from various springs, and river Lea in Hertfordshire; and occasionally from Thames at Broken Wharf, near Blackfriar's Bridge.\",\n",
    "                \"New River Company, from various springs, and river Lea in Hertfordshire; and occasionally from Thames at Broken Wharf, near Blackfriar's Bridge.\",\n",
    "                \"New River Company, from various springs, and river Lea in Hertfordshire; and occasionally from Thames at Broken Wharf, near Blackfriar's Bridge.\",\n",
    "                \"New River Company, from various springs, and river Lea in Hertfordshire; and occasionally from Thames at Broken Wharf, near Blackfriar's Bridge.\",\n",
    "                \"New River Company, from various springs, and river Lea in Hertfordshire; and occasionally from Thames at Broken Wharf, near Blackfriar's Bridge.\",\n",
    "                \"New River Company, from various springs, and river Lea in Hertfordshire; and occasionally from Thames at Broken Wharf, near Blackfriar's Bridge.\",\n",
    "                \"New River and East London Water Companies.\", \"New River and East London Water Companies.\",\n",
    "                \"Chelsea Water Works, from Thames at Chelsea. Reservoirs and filters.\",\n",
    "                \"Chelsea Water Works and Grand Junction Water Works, also supplying water from Thames at Chelsea, and having settling reservoirs.\",\n",
    "                \"Chelsea Water Works and Grand Junction Water Works, also supplying water from Thames at Chelsea, and having settling reservoirs.\",\n",
    "                \"West Middlesex Water Works, from Thames at Hammersmith. Settling reservoirs.\",\n",
    "                \"West Middlesex, New River, and Hampstead Water Works.\"]"
   ]
  },
  {
   "cell_type": "code",
   "execution_count": 9,
   "metadata": {},
   "outputs": [
    {
     "data": {
      "text/plain": [
       "(27, 27, 27, 27)"
      ]
     },
     "execution_count": 9,
     "metadata": {},
     "output_type": "execute_result"
    }
   ],
   "source": [
    "# sanity check\n",
    "\n",
    "len(districts_2), len(deaths_2), len(deaths_in_10000_living_2), len(water_supply_2)"
   ]
  },
  {
   "cell_type": "code",
   "execution_count": 10,
   "metadata": {},
   "outputs": [
    {
     "data": {
      "text/html": [
       "<div>\n",
       "<style scoped>\n",
       "    .dataframe tbody tr th:only-of-type {\n",
       "        vertical-align: middle;\n",
       "    }\n",
       "\n",
       "    .dataframe tbody tr th {\n",
       "        vertical-align: top;\n",
       "    }\n",
       "\n",
       "    .dataframe thead th {\n",
       "        text-align: right;\n",
       "    }\n",
       "</style>\n",
       "<table border=\"1\" class=\"dataframe\">\n",
       "  <thead>\n",
       "    <tr style=\"text-align: right;\">\n",
       "      <th></th>\n",
       "      <th>Districts</th>\n",
       "      <th>Population</th>\n",
       "      <th>Deaths from Cholera</th>\n",
       "      <th>Deaths from Cholera in 10,000 living</th>\n",
       "      <th>Water Supply</th>\n",
       "    </tr>\n",
       "  </thead>\n",
       "  <tbody>\n",
       "    <tr>\n",
       "      <th>0</th>\n",
       "      <td>St. George the Martyr, Southwark, St. Olave's,...</td>\n",
       "      <td>77796</td>\n",
       "      <td>856</td>\n",
       "      <td>110</td>\n",
       "      <td>Southwark Water Works, from Thames at London B...</td>\n",
       "    </tr>\n",
       "    <tr>\n",
       "      <th>1</th>\n",
       "      <td>Christchurch, Southwark</td>\n",
       "      <td>13705</td>\n",
       "      <td>35</td>\n",
       "      <td>25</td>\n",
       "      <td>Chiefly by Lambeth Water Works, from Thames op...</td>\n",
       "    </tr>\n",
       "    <tr>\n",
       "      <th>2</th>\n",
       "      <td>Lambeth</td>\n",
       "      <td>87856</td>\n",
       "      <td>337</td>\n",
       "      <td>38</td>\n",
       "      <td>Chiefly by Lambeth Water Works, from Thames op...</td>\n",
       "    </tr>\n",
       "    <tr>\n",
       "      <th>3</th>\n",
       "      <td>Newington</td>\n",
       "      <td>44526</td>\n",
       "      <td>200</td>\n",
       "      <td>45</td>\n",
       "      <td>Chiefly by South London Water Works, from Tham...</td>\n",
       "    </tr>\n",
       "    <tr>\n",
       "      <th>4</th>\n",
       "      <td>Camberwell</td>\n",
       "      <td>28231</td>\n",
       "      <td>107</td>\n",
       "      <td>37</td>\n",
       "      <td>Chiefly by South London Water Works, from Tham...</td>\n",
       "    </tr>\n",
       "  </tbody>\n",
       "</table>\n",
       "</div>"
      ],
      "text/plain": [
       "                                           Districts Population  \\\n",
       "0  St. George the Martyr, Southwark, St. Olave's,...      77796   \n",
       "1                            Christchurch, Southwark      13705   \n",
       "2                                            Lambeth      87856   \n",
       "3                                          Newington      44526   \n",
       "4                                         Camberwell      28231   \n",
       "\n",
       "  Deaths from Cholera Deaths from Cholera in 10,000 living  \\\n",
       "0                 856                                  110   \n",
       "1                  35                                   25   \n",
       "2                 337                                   38   \n",
       "3                 200                                   45   \n",
       "4                 107                                   37   \n",
       "\n",
       "                                        Water Supply  \n",
       "0  Southwark Water Works, from Thames at London B...  \n",
       "1  Chiefly by Lambeth Water Works, from Thames op...  \n",
       "2  Chiefly by Lambeth Water Works, from Thames op...  \n",
       "3  Chiefly by South London Water Works, from Tham...  \n",
       "4  Chiefly by South London Water Works, from Tham...  "
      ]
     },
     "execution_count": 10,
     "metadata": {},
     "output_type": "execute_result"
    }
   ],
   "source": [
    "table_2_df = pd.DataFrame({'Districts': districts_2,\n",
    "              'Population': population_2,\n",
    "              'Deaths from Cholera': deaths_2,\n",
    "              'Deaths from Cholera in 10,000 living': deaths_in_10000_living_2,\n",
    "              'Water Supply': water_supply_2})\n",
    "\n",
    "table_2_df.head()"
   ]
  },
  {
   "cell_type": "markdown",
   "metadata": {},
   "source": [
    "##### table 3: 1849 water supply and cholera deaths by districts\n"
   ]
  },
  {
   "cell_type": "code",
   "execution_count": 11,
   "metadata": {},
   "outputs": [],
   "source": [
    "districts_3 = ['Rotherhithe', 'St. Olave, Southwark', 'St. George, Southwark', 'Bermondsey', 'St. Saviour, Southwark',\n",
    "               'Newington', 'Lambeth', 'Wandsworth', 'Camberwell', 'West London', 'Bethnal Green', 'Shoreditch', \n",
    "               'Greenwich', 'Poplar', 'Westminster', 'Whitechapel', 'St. Giles', 'Stepney', 'Chelsea', \n",
    "               'East London', \"St. George's, East\", 'London City', 'St. Martin', 'Strand', 'Holborn', 'St. Luke', \n",
    "               'Kensington (except Paddington)', 'Lewisham', 'Belgrave', 'Hackney', 'Islington', 'St. Pancras', \n",
    "               'Clerkenwell', 'Marylebone', 'St. James, Westminster', 'Paddington', 'Hampstead', 'Hanover Square & May Fair']\n",
    "\n",
    "population_1849_3 = [172_08,19_278,50_900,45_500,35_227,63_074,134_768,48_446,51_714,28_829,87_263,104_122,95_954,44_103,\n",
    "                     64_109,78_590,54_062,106_988,53_379,43_495,47_334,55_816,24_557,44_254,46_134,53_234,110_491,32_299,\n",
    "                     37_918,55_152,87_761,160_122,63_499,153_960,36_426,41_267,11_572,33_196]\n",
    "\n",
    "deaths_3 = [352,349,836,734,539,907,1_618,484,504,429,789,789,718,313,437,506,\n",
    "            285,501,247,182,199,207,91,156,161,183,260,96,105,139,187,360,121,261,57,35,9,26]\n",
    "\n",
    "deaths_in_10000_inhabits_3 = [205,181,164,161,153,144,120,100,97,96,90,76,75,71,68,64,53,47,46,45,42,38,37,35,35,34,33,30,\n",
    "                              28,25,22,22,19,17,16,8,8,8]\n",
    "\n",
    "house_shop_value_3 = [4.238, 4.559, 3.518, 3.077, 5.291, 3.788, 4.389, 4.839, 4.508, 7.454, 1.480, 3.103, 3.379,\n",
    "                      7.360, 4.189, 3.388, 5.635, 3.319, 4.210, 4.823, 4.753, 17.676, 11.844, 7.374, 5.883, 3.731, 5.070, 4.824,\n",
    "                      8.875, 4.397, 5.494, 4.871, 4.138, 7.586, 12.669, 9.349, 5.804, 16.754]\n",
    "\n",
    "water_supply_3 = [\"Southwark and Vauxhall Water Works, Kent Water Works, and Tidal Ditches.\", \"Southwark and Vauxhall.\",\n",
    "                  \"Southwark and Vauxhall, Lambeth.\", \"Southwark and Vauxhall.\", \"Southwark and Vauxhall.\",\n",
    "                  \"Southwark and Vauxhall, Lambeth.\", \"Southwark and Vauxhall, Lambeth.\",\n",
    "                  \"Pump-wells, Southwark and Vauxhall, river Wandle.\", \"Southwark and Vauxhall, Lambeth.\", \"New River.\", \n",
    "                  \"East London.\", \"New River, East London.\", \"Kent.\", \"East London.\", \"Chelsea.\", \"East London.\", \"New River.\",\n",
    "                  \"East London.\", \"Chelsea.\", \"New River.\", \"East London.\", \"New River.\", \"New River.\", \"New River.\", \n",
    "                  \"New River.\", \"New River.\", \"West Middlesex, Chelsea, Grand Junction.\", \"Kent.\", \"Chelsea.\", \n",
    "                  \"New River, East London.\", \"New River.\", \"New River, Hampstead, West Middlesex.\", \"New River.\", \n",
    "                  \"West Middlesex.\", \"Grand Junction, New River.\", \"Grand Junction.\", \"Hampstead, West Middlesex.\", \n",
    "                  \"Grand Junction.\"]"
   ]
  },
  {
   "cell_type": "code",
   "execution_count": 12,
   "metadata": {},
   "outputs": [
    {
     "data": {
      "text/plain": [
       "(38, 38, 38, 38, 38, 38)"
      ]
     },
     "execution_count": 12,
     "metadata": {},
     "output_type": "execute_result"
    }
   ],
   "source": [
    "# sanity check\n",
    "\n",
    "len(districts_3), len(population_1849_3), len(deaths_3), len(deaths_in_10000_inhabits_3), len(house_shop_value_3), len(water_supply_3)"
   ]
  },
  {
   "cell_type": "code",
   "execution_count": 13,
   "metadata": {},
   "outputs": [
    {
     "data": {
      "text/html": [
       "<div>\n",
       "<style scoped>\n",
       "    .dataframe tbody tr th:only-of-type {\n",
       "        vertical-align: middle;\n",
       "    }\n",
       "\n",
       "    .dataframe tbody tr th {\n",
       "        vertical-align: top;\n",
       "    }\n",
       "\n",
       "    .dataframe thead th {\n",
       "        text-align: right;\n",
       "    }\n",
       "</style>\n",
       "<table border=\"1\" class=\"dataframe\">\n",
       "  <thead>\n",
       "    <tr style=\"text-align: right;\">\n",
       "      <th></th>\n",
       "      <th>District</th>\n",
       "      <th>Population in the middle of 1849</th>\n",
       "      <th>Deaths from Cholera</th>\n",
       "      <th>Deaths by Cholera to 10,000 inhabits.</th>\n",
       "      <th>Annual value of House &amp; Shop room to each person in £</th>\n",
       "      <th>Water Supply</th>\n",
       "    </tr>\n",
       "  </thead>\n",
       "  <tbody>\n",
       "    <tr>\n",
       "      <th>0</th>\n",
       "      <td>Rotherhithe</td>\n",
       "      <td>17208</td>\n",
       "      <td>352</td>\n",
       "      <td>205</td>\n",
       "      <td>4.238</td>\n",
       "      <td>Southwark and Vauxhall Water Works, Kent Water...</td>\n",
       "    </tr>\n",
       "    <tr>\n",
       "      <th>1</th>\n",
       "      <td>St. Olave, Southwark</td>\n",
       "      <td>19278</td>\n",
       "      <td>349</td>\n",
       "      <td>181</td>\n",
       "      <td>4.559</td>\n",
       "      <td>Southwark and Vauxhall.</td>\n",
       "    </tr>\n",
       "    <tr>\n",
       "      <th>2</th>\n",
       "      <td>St. George, Southwark</td>\n",
       "      <td>50900</td>\n",
       "      <td>836</td>\n",
       "      <td>164</td>\n",
       "      <td>3.518</td>\n",
       "      <td>Southwark and Vauxhall, Lambeth.</td>\n",
       "    </tr>\n",
       "    <tr>\n",
       "      <th>3</th>\n",
       "      <td>Bermondsey</td>\n",
       "      <td>45500</td>\n",
       "      <td>734</td>\n",
       "      <td>161</td>\n",
       "      <td>3.077</td>\n",
       "      <td>Southwark and Vauxhall.</td>\n",
       "    </tr>\n",
       "    <tr>\n",
       "      <th>4</th>\n",
       "      <td>St. Saviour, Southwark</td>\n",
       "      <td>35227</td>\n",
       "      <td>539</td>\n",
       "      <td>153</td>\n",
       "      <td>5.291</td>\n",
       "      <td>Southwark and Vauxhall.</td>\n",
       "    </tr>\n",
       "  </tbody>\n",
       "</table>\n",
       "</div>"
      ],
      "text/plain": [
       "                 District  Population in the middle of 1849  \\\n",
       "0             Rotherhithe                             17208   \n",
       "1    St. Olave, Southwark                             19278   \n",
       "2   St. George, Southwark                             50900   \n",
       "3              Bermondsey                             45500   \n",
       "4  St. Saviour, Southwark                             35227   \n",
       "\n",
       "   Deaths from Cholera  Deaths by Cholera to 10,000 inhabits.  \\\n",
       "0                  352                                    205   \n",
       "1                  349                                    181   \n",
       "2                  836                                    164   \n",
       "3                  734                                    161   \n",
       "4                  539                                    153   \n",
       "\n",
       "   Annual value of House & Shop room to each person in £  \\\n",
       "0                                              4.238       \n",
       "1                                              4.559       \n",
       "2                                              3.518       \n",
       "3                                              3.077       \n",
       "4                                              5.291       \n",
       "\n",
       "                                        Water Supply  \n",
       "0  Southwark and Vauxhall Water Works, Kent Water...  \n",
       "1                            Southwark and Vauxhall.  \n",
       "2                   Southwark and Vauxhall, Lambeth.  \n",
       "3                            Southwark and Vauxhall.  \n",
       "4                            Southwark and Vauxhall.  "
      ]
     },
     "execution_count": 13,
     "metadata": {},
     "output_type": "execute_result"
    }
   ],
   "source": [
    "table_3_df = pd.DataFrame({'District': districts_3,\n",
    "              'Population in the middle of 1849': population_1849_3,\n",
    "              'Deaths from Cholera': deaths_3,\n",
    "              'Deaths by Cholera to 10,000 inhabits.': deaths_in_10000_inhabits_3,\n",
    "              'Annual value of House & Shop room to each person in £': house_shop_value_3,\n",
    "              'Water Supply': water_supply_3})\n",
    "\n",
    "table_3_df.head()"
   ]
  },
  {
   "cell_type": "code",
   "execution_count": 14,
   "metadata": {},
   "outputs": [
    {
     "data": {
      "text/plain": [
       "Population in the middle of 1849    2322001\n",
       "Deaths from Cholera                   14172\n",
       "dtype: int64"
      ]
     },
     "execution_count": 14,
     "metadata": {},
     "output_type": "execute_result"
    }
   ],
   "source": [
    "# checking the sums\n",
    "\n",
    "table_3_df[['Population in the middle of 1849', 'Deaths from Cholera']].sum()"
   ]
  },
  {
   "cell_type": "markdown",
   "metadata": {},
   "source": [
    "the sums aren't matching the ones for London in the table. i wonder why? let's check the deaths per 10000:"
   ]
  },
  {
   "cell_type": "code",
   "execution_count": 15,
   "metadata": {},
   "outputs": [
    {
     "data": {
      "text/plain": [
       "61.033565446354245"
      ]
     },
     "execution_count": 15,
     "metadata": {},
     "output_type": "execute_result"
    }
   ],
   "source": [
    "(table_3_df['Deaths from Cholera'].sum() / table_3_df['Population in the middle of 1849'].sum()) * 10000"
   ]
  },
  {
   "cell_type": "markdown",
   "metadata": {},
   "source": [
    "so very close to the given 62. good. lets check the individual values."
   ]
  },
  {
   "cell_type": "code",
   "execution_count": 16,
   "metadata": {},
   "outputs": [
    {
     "data": {
      "text/html": [
       "<div>\n",
       "<style scoped>\n",
       "    .dataframe tbody tr th:only-of-type {\n",
       "        vertical-align: middle;\n",
       "    }\n",
       "\n",
       "    .dataframe tbody tr th {\n",
       "        vertical-align: top;\n",
       "    }\n",
       "\n",
       "    .dataframe thead th {\n",
       "        text-align: right;\n",
       "    }\n",
       "</style>\n",
       "<table border=\"1\" class=\"dataframe\">\n",
       "  <thead>\n",
       "    <tr style=\"text-align: right;\">\n",
       "      <th></th>\n",
       "      <th>District</th>\n",
       "      <th>Deaths by Cholera to 10,000 inhabits.</th>\n",
       "      <th>death per 10000 check</th>\n",
       "    </tr>\n",
       "  </thead>\n",
       "  <tbody>\n",
       "    <tr>\n",
       "      <th>0</th>\n",
       "      <td>Rotherhithe</td>\n",
       "      <td>205</td>\n",
       "      <td>204.556020</td>\n",
       "    </tr>\n",
       "    <tr>\n",
       "      <th>1</th>\n",
       "      <td>St. Olave, Southwark</td>\n",
       "      <td>181</td>\n",
       "      <td>181.035377</td>\n",
       "    </tr>\n",
       "    <tr>\n",
       "      <th>2</th>\n",
       "      <td>St. George, Southwark</td>\n",
       "      <td>164</td>\n",
       "      <td>164.243615</td>\n",
       "    </tr>\n",
       "    <tr>\n",
       "      <th>3</th>\n",
       "      <td>Bermondsey</td>\n",
       "      <td>161</td>\n",
       "      <td>161.318681</td>\n",
       "    </tr>\n",
       "    <tr>\n",
       "      <th>4</th>\n",
       "      <td>St. Saviour, Southwark</td>\n",
       "      <td>153</td>\n",
       "      <td>153.007636</td>\n",
       "    </tr>\n",
       "  </tbody>\n",
       "</table>\n",
       "</div>"
      ],
      "text/plain": [
       "                 District  Deaths by Cholera to 10,000 inhabits.  \\\n",
       "0             Rotherhithe                                    205   \n",
       "1    St. Olave, Southwark                                    181   \n",
       "2   St. George, Southwark                                    164   \n",
       "3              Bermondsey                                    161   \n",
       "4  St. Saviour, Southwark                                    153   \n",
       "\n",
       "   death per 10000 check  \n",
       "0             204.556020  \n",
       "1             181.035377  \n",
       "2             164.243615  \n",
       "3             161.318681  \n",
       "4             153.007636  "
      ]
     },
     "execution_count": 16,
     "metadata": {},
     "output_type": "execute_result"
    }
   ],
   "source": [
    "table_3_check = table_3_df.copy()\n",
    "\n",
    "table_3_check['death per 10000 check'] = (table_3_df['Deaths from Cholera'] / table_3_df['Population in the middle of 1849']) * 10000\n",
    "\n",
    "table_3_check[['District','Deaths by Cholera to 10,000 inhabits.', 'death per 10000 check']].head()"
   ]
  },
  {
   "cell_type": "markdown",
   "metadata": {},
   "source": [
    "if you scan the table, there are two irregularities. West London and Kensington. why?"
   ]
  },
  {
   "cell_type": "markdown",
   "metadata": {},
   "source": [
    "\n",
    "##### table 4: death in southvark, lambeth and kent areas\n"
   ]
  },
  {
   "cell_type": "code",
   "execution_count": 17,
   "metadata": {},
   "outputs": [],
   "source": [
    "water_companies_4 = [\"(1) Lambeth and (2) Southwark and Vauxhall\", \"Southwark and Vauxhall\", \n",
    "                     \"(1) Southwark and Vauxhall, (2) Kent\"]\n",
    "\n",
    "sources_of_supply_4 = [\"Thames, at Thames ditton and at Battersea\", \"Thames, at Battersea\", \n",
    "                       \"Thames, at Battersea; the Ravensbourne, in Kent, & ditches and wells\"]\n",
    "\n",
    "population_4 = [346_363, 118_267, 17_805]\n",
    "\n",
    "deaths_in_13_wks_4 = [211, 111, 19]\n",
    "\n",
    "deaths_in_100000_4 = [61, 94, 107]"
   ]
  },
  {
   "cell_type": "code",
   "execution_count": 18,
   "metadata": {},
   "outputs": [
    {
     "data": {
      "text/html": [
       "<div>\n",
       "<style scoped>\n",
       "    .dataframe tbody tr th:only-of-type {\n",
       "        vertical-align: middle;\n",
       "    }\n",
       "\n",
       "    .dataframe tbody tr th {\n",
       "        vertical-align: top;\n",
       "    }\n",
       "\n",
       "    .dataframe thead th {\n",
       "        text-align: right;\n",
       "    }\n",
       "</style>\n",
       "<table border=\"1\" class=\"dataframe\">\n",
       "  <thead>\n",
       "    <tr style=\"text-align: right;\">\n",
       "      <th></th>\n",
       "      <th>Water Companies.</th>\n",
       "      <th>Sources of Supply.</th>\n",
       "      <th>Population (Aggregate of Districts supplied chiefly by the respective Companies)</th>\n",
       "      <th>Deaths by Cholera in 13 wks. ending Nov. 19. (Aggregate of Districts supplied chiefly by the respective Companies)</th>\n",
       "      <th>Deaths in 100,000 inhabitants.</th>\n",
       "    </tr>\n",
       "  </thead>\n",
       "  <tbody>\n",
       "    <tr>\n",
       "      <th>0</th>\n",
       "      <td>(1) Lambeth and (2) Southwark and Vauxhall</td>\n",
       "      <td>Thames, at Thames ditton and at Battersea</td>\n",
       "      <td>346363</td>\n",
       "      <td>211</td>\n",
       "      <td>61</td>\n",
       "    </tr>\n",
       "    <tr>\n",
       "      <th>1</th>\n",
       "      <td>Southwark and Vauxhall</td>\n",
       "      <td>Thames, at Battersea</td>\n",
       "      <td>118267</td>\n",
       "      <td>111</td>\n",
       "      <td>94</td>\n",
       "    </tr>\n",
       "    <tr>\n",
       "      <th>2</th>\n",
       "      <td>(1) Southwark and Vauxhall, (2) Kent</td>\n",
       "      <td>Thames, at Battersea; the Ravensbourne, in Ken...</td>\n",
       "      <td>17805</td>\n",
       "      <td>19</td>\n",
       "      <td>107</td>\n",
       "    </tr>\n",
       "  </tbody>\n",
       "</table>\n",
       "</div>"
      ],
      "text/plain": [
       "                             Water Companies.  \\\n",
       "0  (1) Lambeth and (2) Southwark and Vauxhall   \n",
       "1                      Southwark and Vauxhall   \n",
       "2        (1) Southwark and Vauxhall, (2) Kent   \n",
       "\n",
       "                                  Sources of Supply.  \\\n",
       "0          Thames, at Thames ditton and at Battersea   \n",
       "1                               Thames, at Battersea   \n",
       "2  Thames, at Battersea; the Ravensbourne, in Ken...   \n",
       "\n",
       "   Population (Aggregate of Districts supplied chiefly by the respective Companies)  \\\n",
       "0                                             346363                                  \n",
       "1                                             118267                                  \n",
       "2                                              17805                                  \n",
       "\n",
       "   Deaths by Cholera in 13 wks. ending Nov. 19. (Aggregate of Districts supplied chiefly by the respective Companies)  \\\n",
       "0                                                211                                                                    \n",
       "1                                                111                                                                    \n",
       "2                                                 19                                                                    \n",
       "\n",
       "   Deaths in 100,000 inhabitants.  \n",
       "0                              61  \n",
       "1                              94  \n",
       "2                             107  "
      ]
     },
     "execution_count": 18,
     "metadata": {},
     "output_type": "execute_result"
    }
   ],
   "source": [
    "table_4_df = pd.DataFrame({'Water Companies.': water_companies_4,\n",
    "              'Sources of Supply.': sources_of_supply_4,\n",
    "              'Population (Aggregate of Districts supplied chiefly by the respective Companies)': population_4,\n",
    "              'Deaths by Cholera in 13 wks. ending Nov. 19. (Aggregate of Districts supplied chiefly by the respective Companies)': deaths_in_13_wks_4,\n",
    "              'Deaths in 100,000 inhabitants.': deaths_in_100000_4})\n",
    "\n",
    "table_4_df"
   ]
  },
  {
   "cell_type": "markdown",
   "metadata": {},
   "source": [
    "\n",
    "##### table 5: weekly return of birth and death in december 1853 when cholera had mostly disappeared\n"
   ]
  },
  {
   "cell_type": "code",
   "execution_count": 25,
   "metadata": {},
   "outputs": [],
   "source": [
    "districts_5 = [\"Bermondsey\", \"S. Saviour, Southwark\", \"S. George, Southwark\", \"St. Olave\", \"Rotherhithe\", \"Whitechapel\",\n",
    "               \"Newington\", \"Kensington,-except Paddington\", \"Wandsworth\", \"St. George (East)\", \"Camberwell\", \"Stepney\",\n",
    "               \"Lambeth\", \"Greenwich\", \"Marylebone\", \"Westminster\", \"St. James, Westminster\", \"Hackney\", \"Paddington\",\n",
    "               \"Shoreditch\", \"Bethnal Green\", \"Poplar\", \"West London\", \"Hanover Square and May Fair\", \"Islington\", \n",
    "               \"Chelsea\", \"East London\", \"London City\", \"Clerkenwell\", \"Belgrave\", \"St. Martin-in-the-Fields\", \"St. Pancras\", \n",
    "               \"St. Luke\", \"Lewisham\", \"Holborn\", \"St. Giles\", \"Strand\", \"Hampstead\"]\n",
    "\n",
    "population_1855_5 = [48_128, 35_731, 51_824, 19_375, 17_805, 79_759, 64_816, 73_699, 50_764, 48_376, 54_667, 110_775, 139_325, 99_365,\n",
    "                     157_696, 65_609, 36_406, 58_429, 46_305, 109_257, 90_193, 47_162, 28_840, 33_196, 95_329, 56_538, 44_406,\n",
    "                     55_932, 64_778, 40_034, 24_640, 166_956, 54_055, 34_835, 46_571, 54_214, 44_460, 11_986]\n",
    "\n",
    "deaths_in_17_wks_5 = [73,52,74,26,20,78,37,40,26,21,22,40,48,32,48,19,9,13,10,23,18,9,4,5,12,6,4,5,5,3,1,\n",
    "                      8,2,1,1,1,pd.NA,pd.NA]\n",
    "\n",
    "deaths_by_100000_5 = [150,146,143,134,112,95,57,53,51,43,40,34,34,31,30,27,25,22,22,21,20,17,14,12,12,11,9,9,8,7,5,5,4,3,2,2,\n",
    "                      pd.NA,pd.NA]\n",
    "\n",
    "water_supply_5 = [\"Southwark & Vauxhall.\", \"Southwark and Vauxhall, Lambeth.\", \n",
    "                  \"Southwark and Vauxhall, Lambeth.\", \"Southwark & Vauxhall.\", \"South. & Vaux., Kent.\", \n",
    "                  \"East London.\", \"Southwark and Vauxhall, Lambeth.\", \"West Middlesex, Chelsea, Grand Junction\",\n",
    "                  \"South. & Vaux., Pumpwells, River Wandle.\", \"East London.\", \"Southwark and Vauxhall, Lambeth.\",\n",
    "                  \"East London\", \"Lambeth, Sou. & Vaux.\", \"Kent\", \"West Middlesex.\", \"Chelsea\", \"Grand Junction, New River.\",\n",
    "                  \"New Riv., East London.\", \"Grand Junction.\", \"New Riv., East London.\", \"East London.\", \"East London.\", \n",
    "                  \"New River.\", \"Grand Junction.\", \"New River.\", \"Chelsea.\", \"New River.\", \"New River.\", \"New River.\", \n",
    "                  \"Chelsea.\", \"New River.\", \"New River, Hampstead, West Middlesex.\", \"New River.\", \"Kent.\", \n",
    "                  \"New River.\", \"New River.\", \"New River.\", \"Hampst., West Midsex.\"]"
   ]
  },
  {
   "cell_type": "code",
   "execution_count": 26,
   "metadata": {},
   "outputs": [
    {
     "data": {
      "text/plain": [
       "(38, 38, 38, 38, 38)"
      ]
     },
     "execution_count": 26,
     "metadata": {},
     "output_type": "execute_result"
    }
   ],
   "source": [
    "# sanity check\n",
    "\n",
    "len(districts_5), len(population_1855_5), len(deaths_in_17_wks_5), len(deaths_by_100000_5), len(water_supply_5)"
   ]
  },
  {
   "cell_type": "code",
   "execution_count": 28,
   "metadata": {},
   "outputs": [
    {
     "data": {
      "text/html": [
       "<div>\n",
       "<style scoped>\n",
       "    .dataframe tbody tr th:only-of-type {\n",
       "        vertical-align: middle;\n",
       "    }\n",
       "\n",
       "    .dataframe tbody tr th {\n",
       "        vertical-align: top;\n",
       "    }\n",
       "\n",
       "    .dataframe thead th {\n",
       "        text-align: right;\n",
       "    }\n",
       "</style>\n",
       "<table border=\"1\" class=\"dataframe\">\n",
       "  <thead>\n",
       "    <tr style=\"text-align: right;\">\n",
       "      <th></th>\n",
       "      <th>Districts</th>\n",
       "      <th>Population in 1853 (estimated)</th>\n",
       "      <th>Deaths by Cholera in 17 wks, Aug. 21 to Dec. 17, 1853</th>\n",
       "      <th>Deaths by Cholera to 100,000 living</th>\n",
       "      <th>Water Supply</th>\n",
       "    </tr>\n",
       "  </thead>\n",
       "  <tbody>\n",
       "    <tr>\n",
       "      <th>0</th>\n",
       "      <td>Bermondsey</td>\n",
       "      <td>48128</td>\n",
       "      <td>73</td>\n",
       "      <td>150</td>\n",
       "      <td>Southwark &amp; Vauxhall.</td>\n",
       "    </tr>\n",
       "    <tr>\n",
       "      <th>1</th>\n",
       "      <td>S. Saviour, Southwark</td>\n",
       "      <td>35731</td>\n",
       "      <td>52</td>\n",
       "      <td>146</td>\n",
       "      <td>Southwark and Vauxhall, Lambeth.</td>\n",
       "    </tr>\n",
       "    <tr>\n",
       "      <th>2</th>\n",
       "      <td>S. George, Southwark</td>\n",
       "      <td>51824</td>\n",
       "      <td>74</td>\n",
       "      <td>143</td>\n",
       "      <td>Southwark and Vauxhall, Lambeth.</td>\n",
       "    </tr>\n",
       "    <tr>\n",
       "      <th>3</th>\n",
       "      <td>St. Olave</td>\n",
       "      <td>19375</td>\n",
       "      <td>26</td>\n",
       "      <td>134</td>\n",
       "      <td>Southwark &amp; Vauxhall.</td>\n",
       "    </tr>\n",
       "    <tr>\n",
       "      <th>4</th>\n",
       "      <td>Rotherhithe</td>\n",
       "      <td>17805</td>\n",
       "      <td>20</td>\n",
       "      <td>112</td>\n",
       "      <td>South. &amp; Vaux., Kent.</td>\n",
       "    </tr>\n",
       "  </tbody>\n",
       "</table>\n",
       "</div>"
      ],
      "text/plain": [
       "               Districts  Population in 1853 (estimated)  \\\n",
       "0             Bermondsey                           48128   \n",
       "1  S. Saviour, Southwark                           35731   \n",
       "2   S. George, Southwark                           51824   \n",
       "3              St. Olave                           19375   \n",
       "4            Rotherhithe                           17805   \n",
       "\n",
       "  Deaths by Cholera in 17 wks, Aug. 21 to Dec. 17, 1853  \\\n",
       "0                                                 73      \n",
       "1                                                 52      \n",
       "2                                                 74      \n",
       "3                                                 26      \n",
       "4                                                 20      \n",
       "\n",
       "  Deaths by Cholera to 100,000 living                      Water Supply  \n",
       "0                                 150             Southwark & Vauxhall.  \n",
       "1                                 146  Southwark and Vauxhall, Lambeth.  \n",
       "2                                 143  Southwark and Vauxhall, Lambeth.  \n",
       "3                                 134             Southwark & Vauxhall.  \n",
       "4                                 112             South. & Vaux., Kent.  "
      ]
     },
     "execution_count": 28,
     "metadata": {},
     "output_type": "execute_result"
    }
   ],
   "source": [
    "table_5_df = pd.DataFrame({\"Districts\": districts_5,\n",
    "              \"Population in 1853 (estimated)\": population_1855_5,\n",
    "              \"Deaths by Cholera in 17 wks, Aug. 21 to Dec. 17, 1853\": deaths_in_17_wks_5,\n",
    "              \"Deaths by Cholera to 100,000 living\": deaths_by_100000_5,\n",
    "              \"Water Supply\": water_supply_5})\n",
    "\n",
    "table_5_df.head()"
   ]
  },
  {
   "cell_type": "markdown",
   "metadata": {},
   "source": [
    "Lets check the totals now."
   ]
  },
  {
   "cell_type": "code",
   "execution_count": 31,
   "metadata": {},
   "outputs": [
    {
     "data": {
      "text/plain": [
       "(2362236, 796)"
      ]
     },
     "execution_count": 31,
     "metadata": {},
     "output_type": "execute_result"
    }
   ],
   "source": [
    "table_5_df[\"Population in 1853 (estimated)\"].sum(), table_5_df[\"Deaths by Cholera in 17 wks, Aug. 21 to Dec. 17, 1853\"].sum()"
   ]
  },
  {
   "cell_type": "markdown",
   "metadata": {},
   "source": [
    "Matches exactly!"
   ]
  },
  {
   "cell_type": "markdown",
   "metadata": {},
   "source": [
    "\n",
    "##### table 6: august 1853 to jan 1854 southvark vs lambeth deaths\n"
   ]
  },
  {
   "cell_type": "code",
   "execution_count": 34,
   "metadata": {},
   "outputs": [],
   "source": [
    "sub_districts_6 = ['St. Saviour, Southwark', 'St. Olvae', 'St. John, Horsleydown',\n",
    "                 'St. James, Bermondsey', 'St. Mary Magdalen', 'Leather Market', 'Rotherhithe*',\n",
    "                 'Wandsworth', 'Battersea', 'Putney', 'Camberwell', 'Peckham', \n",
    "                 'Christchurch, Southwk.', 'Kent Road', 'Borough Road', 'London Road',\n",
    "                 'Trinity, Newington', 'St. Peter, Walworth', 'St. Mary, Newington',\n",
    "                 'Waterloo Road (1st part)', 'Waterloo Road (2nd part)', 'Lambeth Church (1st part)', \n",
    "                 'Lambeth Church (2nd part)', 'Kennington (1st part)', 'Kennington (2nd part)', \n",
    "                 'Brixton', 'Clapham', 'St. George, Camberwell', 'Norwood', 'Streatham',\n",
    "                 'Dulwich']\n",
    "\n",
    "population_1851_6 = [19_709, 8_015, 11_360, 18_899, 13_934, 15_295, 17_805, 9_611, 10_560, 5_280, 17_742, 19_444,\n",
    "                     16_022, 18_126, 15_862, 17_836, 20_922, 29_861, 14_033, 14_088, 18_348, 18_409, 26_784,\n",
    "                     24_261, 18_848, 14_610, 16_290, 15_849, 3_977, 9_023, 1_632]\n",
    "\n",
    "deaths_1853_6 = [45, 19, 7, 21, 27, 23, 20, 3, 11, pd.NA, 9, 7, 7, 37, 26, 9, 11, 23, 5, 1, 7, 9, 11, 12, 6, 2, 10, 6,\n",
    "                 pd.NA, pd.NA, pd.NA]\n",
    "\n",
    "deaths_in_100000_6 = [227, 237, 61, 111, 193, 153, 112, 31, 104, pd.NA, 50, 36, 43, 204, 163, 50, 52, 77, 35, 7, 38,\n",
    "                      48, 41, 49, 31, 13, 61, 37, pd.NA, pd.NA, pd.NA]\n",
    "\n",
    "water_supply_6 = [\"Southwark and Vauxhall Water Company only.\",\"Southwark and Vauxhall Water Company only.\",\n",
    "                  \"Southwark and Vauxhall Water Company only.\",\"Southwark and Vauxhall Water Company only.\",\n",
    "                  \"Southwark and Vauxhall Water Company only.\",\"Southwark and Vauxhall Water Company only.\",\n",
    "                  \"Southwark and Vauxhall Water Company only.\",\"Southwark and Vauxhall Water Company only.\",\n",
    "                  \"Southwark and Vauxhall Water Company only.\",\"Southwark and Vauxhall Water Company only.\",\n",
    "                  \"Southwark and Vauxhall Water Company only.\",\"Southwark and Vauxhall Water Company only.\",\n",
    "                  \"Lambeth Water Company, and Southwark and Vauxhall Company.\",\n",
    "                  \"Lambeth Water Company, and Southwark and Vauxhall Company.\",\n",
    "                  \"Lambeth Water Company, and Southwark and Vauxhall Company.\",\n",
    "                  \"Lambeth Water Company, and Southwark and Vauxhall Company.\",\n",
    "                  \"Lambeth Water Company, and Southwark and Vauxhall Company.\",\n",
    "                  \"Lambeth Water Company, and Southwark and Vauxhall Company.\",\n",
    "                  \"Lambeth Water Company, and Southwark and Vauxhall Company.\",\n",
    "                  \"Lambeth Water Company, and Southwark and Vauxhall Company.\",\n",
    "                  \"Lambeth Water Company, and Southwark and Vauxhall Company.\",\n",
    "                  \"Lambeth Water Company, and Southwark and Vauxhall Company.\",\n",
    "                  \"Lambeth Water Company, and Southwark and Vauxhall Company.\",\n",
    "                  \"Lambeth Water Company, and Southwark and Vauxhall Company.\",\n",
    "                  \"Lambeth Water Company, and Southwark and Vauxhall Company.\",\n",
    "                  \"Lambeth Water Company, and Southwark and Vauxhall Company.\",\n",
    "                  \"Lambeth Water Company, and Southwark and Vauxhall Company.\",\n",
    "                  \"Lambeth Water Company, and Southwark and Vauxhall Company.\",\n",
    "                  \"Lambeth Water Company only.\", \"Lambeth Water Company only.\", \"Lambeth Water Company only.\"]"
   ]
  },
  {
   "cell_type": "code",
   "execution_count": 35,
   "metadata": {},
   "outputs": [
    {
     "data": {
      "text/plain": [
       "(31, 31, 31, 31, 31)"
      ]
     },
     "execution_count": 35,
     "metadata": {},
     "output_type": "execute_result"
    }
   ],
   "source": [
    "# sanity check\n",
    "\n",
    "len(sub_districts_6), len(population_1851_6), len(deaths_1853_6), len(deaths_in_100000_6), len(water_supply_6)"
   ]
  },
  {
   "cell_type": "code",
   "execution_count": 37,
   "metadata": {},
   "outputs": [
    {
     "data": {
      "text/html": [
       "<div>\n",
       "<style scoped>\n",
       "    .dataframe tbody tr th:only-of-type {\n",
       "        vertical-align: middle;\n",
       "    }\n",
       "\n",
       "    .dataframe tbody tr th {\n",
       "        vertical-align: top;\n",
       "    }\n",
       "\n",
       "    .dataframe thead th {\n",
       "        text-align: right;\n",
       "    }\n",
       "</style>\n",
       "<table border=\"1\" class=\"dataframe\">\n",
       "  <thead>\n",
       "    <tr style=\"text-align: right;\">\n",
       "      <th></th>\n",
       "      <th>Sub-Districts</th>\n",
       "      <th>Population in 1851</th>\n",
       "      <th>Deaths from Cholera in 1853</th>\n",
       "      <th>Deaths by Cholera in each 100,000 living</th>\n",
       "      <th>Water Supply</th>\n",
       "    </tr>\n",
       "  </thead>\n",
       "  <tbody>\n",
       "    <tr>\n",
       "      <th>0</th>\n",
       "      <td>St. Saviour, Southwark</td>\n",
       "      <td>19709</td>\n",
       "      <td>45</td>\n",
       "      <td>227</td>\n",
       "      <td>Southwark and Vauxhall Water Company only.</td>\n",
       "    </tr>\n",
       "    <tr>\n",
       "      <th>1</th>\n",
       "      <td>St. Olvae</td>\n",
       "      <td>8015</td>\n",
       "      <td>19</td>\n",
       "      <td>237</td>\n",
       "      <td>Southwark and Vauxhall Water Company only.</td>\n",
       "    </tr>\n",
       "    <tr>\n",
       "      <th>2</th>\n",
       "      <td>St. John, Horsleydown</td>\n",
       "      <td>11360</td>\n",
       "      <td>7</td>\n",
       "      <td>61</td>\n",
       "      <td>Southwark and Vauxhall Water Company only.</td>\n",
       "    </tr>\n",
       "    <tr>\n",
       "      <th>3</th>\n",
       "      <td>St. James, Bermondsey</td>\n",
       "      <td>18899</td>\n",
       "      <td>21</td>\n",
       "      <td>111</td>\n",
       "      <td>Southwark and Vauxhall Water Company only.</td>\n",
       "    </tr>\n",
       "    <tr>\n",
       "      <th>4</th>\n",
       "      <td>St. Mary Magdalen</td>\n",
       "      <td>13934</td>\n",
       "      <td>27</td>\n",
       "      <td>193</td>\n",
       "      <td>Southwark and Vauxhall Water Company only.</td>\n",
       "    </tr>\n",
       "  </tbody>\n",
       "</table>\n",
       "</div>"
      ],
      "text/plain": [
       "            Sub-Districts  Population in 1851 Deaths from Cholera in 1853  \\\n",
       "0  St. Saviour, Southwark               19709                          45   \n",
       "1               St. Olvae                8015                          19   \n",
       "2   St. John, Horsleydown               11360                           7   \n",
       "3   St. James, Bermondsey               18899                          21   \n",
       "4       St. Mary Magdalen               13934                          27   \n",
       "\n",
       "  Deaths by Cholera in each 100,000 living  \\\n",
       "0                                      227   \n",
       "1                                      237   \n",
       "2                                       61   \n",
       "3                                      111   \n",
       "4                                      193   \n",
       "\n",
       "                                 Water Supply  \n",
       "0  Southwark and Vauxhall Water Company only.  \n",
       "1  Southwark and Vauxhall Water Company only.  \n",
       "2  Southwark and Vauxhall Water Company only.  \n",
       "3  Southwark and Vauxhall Water Company only.  \n",
       "4  Southwark and Vauxhall Water Company only.  "
      ]
     },
     "execution_count": 37,
     "metadata": {},
     "output_type": "execute_result"
    }
   ],
   "source": [
    "table_6_1_df = pd.DataFrame({\"Sub-Districts\": sub_districts_6,\n",
    "              \"Population in 1851\": population_1851_6,\n",
    "              \"Deaths from Cholera in 1853\": deaths_1853_6,\n",
    "              \"Deaths by Cholera in each 100,000 living\": deaths_in_100000_6,\n",
    "              \"Water Supply\": water_supply_6})\n",
    "\n",
    "table_6_1_df.head()"
   ]
  },
  {
   "cell_type": "markdown",
   "metadata": {},
   "source": [
    "Now lets get the second part of this table"
   ]
  },
  {
   "cell_type": "code",
   "execution_count": 88,
   "metadata": {},
   "outputs": [
    {
     "data": {
      "text/html": [
       "<div>\n",
       "<style scoped>\n",
       "    .dataframe tbody tr th:only-of-type {\n",
       "        vertical-align: middle;\n",
       "    }\n",
       "\n",
       "    .dataframe tbody tr th {\n",
       "        vertical-align: top;\n",
       "    }\n",
       "\n",
       "    .dataframe thead th {\n",
       "        text-align: right;\n",
       "    }\n",
       "</style>\n",
       "<table border=\"1\" class=\"dataframe\">\n",
       "  <thead>\n",
       "    <tr style=\"text-align: right;\">\n",
       "      <th></th>\n",
       "      <th>Population in 1851</th>\n",
       "      <th>Deaths from Cholera in 1853</th>\n",
       "      <th>Deaths by Cholera in each 100,000 living</th>\n",
       "    </tr>\n",
       "    <tr>\n",
       "      <th>Water Supply</th>\n",
       "      <th></th>\n",
       "      <th></th>\n",
       "      <th></th>\n",
       "    </tr>\n",
       "  </thead>\n",
       "  <tbody>\n",
       "    <tr>\n",
       "      <th>Southwark and Vauxhall Water Company only.</th>\n",
       "      <td>167654</td>\n",
       "      <td>192</td>\n",
       "      <td>114.521574</td>\n",
       "    </tr>\n",
       "    <tr>\n",
       "      <th>Lambeth Water Company, and Southwark and Vauxhall Company.</th>\n",
       "      <td>300149</td>\n",
       "      <td>182</td>\n",
       "      <td>60.636551</td>\n",
       "    </tr>\n",
       "    <tr>\n",
       "      <th>Lambeth Water Company only.</th>\n",
       "      <td>14632</td>\n",
       "      <td>0</td>\n",
       "      <td>0.0</td>\n",
       "    </tr>\n",
       "  </tbody>\n",
       "</table>\n",
       "</div>"
      ],
      "text/plain": [
       "                                                    Population in 1851  \\\n",
       "Water Supply                                                             \n",
       "Southwark and Vauxhall Water Company only.                      167654   \n",
       "Lambeth Water Company, and Southwark and Vauxha...              300149   \n",
       "Lambeth Water Company only.                                      14632   \n",
       "\n",
       "                                                   Deaths from Cholera in 1853  \\\n",
       "Water Supply                                                                     \n",
       "Southwark and Vauxhall Water Company only.                                 192   \n",
       "Lambeth Water Company, and Southwark and Vauxha...                         182   \n",
       "Lambeth Water Company only.                                                  0   \n",
       "\n",
       "                                                   Deaths by Cholera in each 100,000 living  \n",
       "Water Supply                                                                                 \n",
       "Southwark and Vauxhall Water Company only.                                       114.521574  \n",
       "Lambeth Water Company, and Southwark and Vauxha...                                60.636551  \n",
       "Lambeth Water Company only.                                                             0.0  "
      ]
     },
     "execution_count": 88,
     "metadata": {},
     "output_type": "execute_result"
    }
   ],
   "source": [
    "table_6_2_df = table_6_1_df.groupby(\"Water Supply\").agg({\"Population in 1851\": sum, \"Deaths from Cholera in 1853\": sum}).sort_index(ascending=False)\n",
    "\n",
    "table_6_2_df[\"Deaths by Cholera in each 100,000 living\"] = (table_6_2_df['Deaths from Cholera in 1853'] / table_6_2_df['Population in 1851']) * 100000\n",
    "\n",
    "table_6_2_df"
   ]
  },
  {
   "cell_type": "markdown",
   "metadata": {},
   "source": [
    "it gives zero for lambeth. is this really correct?"
   ]
  },
  {
   "cell_type": "markdown",
   "metadata": {},
   "source": [
    "\n",
    "##### table 7: mortality from cholera in four weeks ending 5 august 1853\n"
   ]
  },
  {
   "cell_type": "markdown",
   "metadata": {},
   "source": [
    "the following lists are used in both table 7 and 8."
   ]
  },
  {
   "cell_type": "code",
   "execution_count": 44,
   "metadata": {},
   "outputs": [],
   "source": [
    "sub_districts_7_8 = ['St. Saviour, Southwark', 'St. Olvae, Southward', 'St. John, Horsleydown',\n",
    "                 'St. James, Bermondsey', 'St. Mary Magdalen', 'Leather Market', 'Rotherhithe',\n",
    "                 'Battersea', 'Wandsworth', 'Putney', 'Camberwell', 'Peckham', \n",
    "                 'Christchurch, Southwk.', 'Kent Road', 'Borough Road', 'London Road',\n",
    "                 'Trinity, Newington', 'St. Peter, Walworth', 'St. Mary, Newington',\n",
    "                 'Waterloo Road (1st)', 'Waterloo Road (2nd)', 'Lambeth Church (1st)', \n",
    "                 'Lambeth Church (2nd)', 'Kennington (1st)', 'Kennington (2nd)', \n",
    "                 'Brixton', 'Clapham', 'St. George, Camberwell', 'Norwood', 'Streatham',\n",
    "                 'Dulwich', 'Sydenham']\n",
    "\n",
    "population_in_1851_7_8 = [19709, 8015, 11360, 18899, 13934, 15295, 17805, 10560, 9611, 5280,\n",
    "                      17742, 19444, 16022, 18126, 15862, 17836, 20922, 29861, 14033, 14088,\n",
    "                      18348, 18409, 26784, 24261, 18848, 14610, 16290, 15849, 3977, 9023, 1632, 4501]\n"
   ]
  },
  {
   "cell_type": "code",
   "execution_count": 45,
   "metadata": {},
   "outputs": [
    {
     "data": {
      "text/plain": [
       "(32, 32)"
      ]
     },
     "execution_count": 45,
     "metadata": {},
     "output_type": "execute_result"
    }
   ],
   "source": [
    "# sanity check\n",
    "len(sub_districts_7_8), len(population_in_1851_7_8)"
   ]
  },
  {
   "cell_type": "code",
   "execution_count": 46,
   "metadata": {},
   "outputs": [],
   "source": [
    "deaths_7 = [26,19,18,29,20,23,26,13,2,1,19,4,3,8,21,9,14,\n",
    "                      20,5,5,5,5,10,11,3,1,5,9,pd.NA,pd.NA,pd.NA,pd.NA]\n",
    "\n",
    "southvark_deaths_7 = [24,15,17,23,19,23,17,10,pd.NA,pd.NA,19,4,2,7,20,5,\n",
    "                    14,20,5,5,5,2,7,9,3,pd.NA,4,7,pd.NA,pd.NA,pd.NA,pd.NA]\n",
    "\n",
    "lambeth_deaths_7 = [pd.NA,pd.NA,pd.NA,pd.NA,pd.NA,pd.NA,pd.NA,pd.NA,pd.NA,pd.NA,pd.NA,pd.NA,\n",
    "                1,1,1,4,pd.NA,pd.NA,pd.NA,pd.NA,pd.NA,1,2,1,pd.NA,1,pd.NA,2,pd.NA,pd.NA,pd.NA,pd.NA]\n",
    "\n",
    "pump_deaths_7 = [pd.NA,pd.NA,pd.NA,pd.NA,pd.NA,pd.NA,pd.NA,1,pd.NA,1,pd.NA,pd.NA,\n",
    "                 pd.NA,pd.NA,pd.NA,pd.NA,pd.NA,pd.NA,pd.NA,pd.NA,pd.NA,pd.NA,pd.NA,1,pd.NA,pd.NA,1,\n",
    "                 pd.NA,pd.NA,pd.NA,pd.NA,pd.NA,]\n",
    "\n",
    "river_etc_7 = [2,2,1,6,1,pd.NA,9,2,2,pd.NA,pd.NA,pd.NA,pd.NA,pd.NA,pd.NA,pd.NA,pd.NA,pd.NA,\n",
    "               pd.NA,pd.NA,pd.NA,1,pd.NA,pd.NA,pd.NA,pd.NA,pd.NA,pd.NA,pd.NA,pd.NA,pd.NA,pd.NA,]\n",
    "\n",
    "unknown_7 = [pd.NA,2,pd.NA,pd.NA,pd.NA,pd.NA,pd.NA,pd.NA,pd.NA,pd.NA,pd.NA,pd.NA,\n",
    "             pd.NA,pd.NA,pd.NA,pd.NA,pd.NA,pd.NA,pd.NA,pd.NA,pd.NA,1,1,pd.NA,pd.NA,pd.NA,\n",
    "             pd.NA,pd.NA,pd.NA,pd.NA,pd.NA,pd.NA,]"
   ]
  },
  {
   "cell_type": "code",
   "execution_count": 47,
   "metadata": {},
   "outputs": [
    {
     "data": {
      "text/plain": [
       "(32, 32, 32, 32, 32, 32)"
      ]
     },
     "execution_count": 47,
     "metadata": {},
     "output_type": "execute_result"
    }
   ],
   "source": [
    "# sanity check\n",
    "\n",
    "len(deaths_7), len(southvark_deaths_7), len(lambeth_deaths_7), len(pump_deaths_7), len(river_etc_7), len(unknown_7)"
   ]
  },
  {
   "cell_type": "code",
   "execution_count": 48,
   "metadata": {},
   "outputs": [
    {
     "data": {
      "text/html": [
       "<div>\n",
       "<style scoped>\n",
       "    .dataframe tbody tr th:only-of-type {\n",
       "        vertical-align: middle;\n",
       "    }\n",
       "\n",
       "    .dataframe tbody tr th {\n",
       "        vertical-align: top;\n",
       "    }\n",
       "\n",
       "    .dataframe thead th {\n",
       "        text-align: right;\n",
       "    }\n",
       "</style>\n",
       "<table border=\"1\" class=\"dataframe\">\n",
       "  <thead>\n",
       "    <tr style=\"text-align: right;\">\n",
       "      <th></th>\n",
       "      <th>Sub-Districts</th>\n",
       "      <th>Population in 1851</th>\n",
       "      <th>Deaths from Cholera in four weeks ending August 5th</th>\n",
       "      <th>Southvark &amp; Vauxhall</th>\n",
       "      <th>Lambeth</th>\n",
       "      <th>Pump-wells</th>\n",
       "      <th>River Thames, ditches etc</th>\n",
       "      <th>Unascertained</th>\n",
       "    </tr>\n",
       "  </thead>\n",
       "  <tbody>\n",
       "    <tr>\n",
       "      <th>0</th>\n",
       "      <td>St. Saviour, Southwark</td>\n",
       "      <td>19709</td>\n",
       "      <td>26</td>\n",
       "      <td>24</td>\n",
       "      <td>&lt;NA&gt;</td>\n",
       "      <td>&lt;NA&gt;</td>\n",
       "      <td>2</td>\n",
       "      <td>&lt;NA&gt;</td>\n",
       "    </tr>\n",
       "    <tr>\n",
       "      <th>1</th>\n",
       "      <td>St. Olvae, Southward</td>\n",
       "      <td>8015</td>\n",
       "      <td>19</td>\n",
       "      <td>15</td>\n",
       "      <td>&lt;NA&gt;</td>\n",
       "      <td>&lt;NA&gt;</td>\n",
       "      <td>2</td>\n",
       "      <td>2</td>\n",
       "    </tr>\n",
       "    <tr>\n",
       "      <th>2</th>\n",
       "      <td>St. John, Horsleydown</td>\n",
       "      <td>11360</td>\n",
       "      <td>18</td>\n",
       "      <td>17</td>\n",
       "      <td>&lt;NA&gt;</td>\n",
       "      <td>&lt;NA&gt;</td>\n",
       "      <td>1</td>\n",
       "      <td>&lt;NA&gt;</td>\n",
       "    </tr>\n",
       "    <tr>\n",
       "      <th>3</th>\n",
       "      <td>St. James, Bermondsey</td>\n",
       "      <td>18899</td>\n",
       "      <td>29</td>\n",
       "      <td>23</td>\n",
       "      <td>&lt;NA&gt;</td>\n",
       "      <td>&lt;NA&gt;</td>\n",
       "      <td>6</td>\n",
       "      <td>&lt;NA&gt;</td>\n",
       "    </tr>\n",
       "    <tr>\n",
       "      <th>4</th>\n",
       "      <td>St. Mary Magdalen</td>\n",
       "      <td>13934</td>\n",
       "      <td>20</td>\n",
       "      <td>19</td>\n",
       "      <td>&lt;NA&gt;</td>\n",
       "      <td>&lt;NA&gt;</td>\n",
       "      <td>1</td>\n",
       "      <td>&lt;NA&gt;</td>\n",
       "    </tr>\n",
       "  </tbody>\n",
       "</table>\n",
       "</div>"
      ],
      "text/plain": [
       "            Sub-Districts  Population in 1851  \\\n",
       "0  St. Saviour, Southwark               19709   \n",
       "1    St. Olvae, Southward                8015   \n",
       "2   St. John, Horsleydown               11360   \n",
       "3   St. James, Bermondsey               18899   \n",
       "4       St. Mary Magdalen               13934   \n",
       "\n",
       "  Deaths from Cholera in four weeks ending August 5th Southvark & Vauxhall  \\\n",
       "0                                                 26                    24   \n",
       "1                                                 19                    15   \n",
       "2                                                 18                    17   \n",
       "3                                                 29                    23   \n",
       "4                                                 20                    19   \n",
       "\n",
       "  Lambeth Pump-wells River Thames, ditches etc Unascertained  \n",
       "0    <NA>       <NA>                         2          <NA>  \n",
       "1    <NA>       <NA>                         2             2  \n",
       "2    <NA>       <NA>                         1          <NA>  \n",
       "3    <NA>       <NA>                         6          <NA>  \n",
       "4    <NA>       <NA>                         1          <NA>  "
      ]
     },
     "execution_count": 48,
     "metadata": {},
     "output_type": "execute_result"
    }
   ],
   "source": [
    "table_7_df = pd.DataFrame({'Sub-Districts': sub_districts_7_8,\n",
    "                           'Population in 1851': population_in_1851_7_8,\n",
    "                           'Deaths from Cholera in four weeks ending August 5th': deaths_7,\n",
    "                           'Southvark & Vauxhall': southvark_deaths_7,\n",
    "                           'Lambeth': lambeth_deaths_7,\n",
    "                           'Pump-wells': pump_deaths_7,\n",
    "                           'River Thames, ditches etc': river_etc_7,\n",
    "                           'Unascertained': unknown_7})\n",
    "\n",
    "table_7_df.head()"
   ]
  },
  {
   "cell_type": "markdown",
   "metadata": {},
   "source": [
    "\n",
    "##### table 8: mortality from cholera in four weeks ending 26 august 1853\n"
   ]
  },
  {
   "cell_type": "code",
   "execution_count": 49,
   "metadata": {},
   "outputs": [],
   "source": [
    "deaths_8 = [125,53,51,123,87,81,103,54,11,1,96,59,25,57,71,29,58,90,\n",
    "            21,10,36,18,53,71,38,9,24,42,8,6,pd.NA,4]\n",
    "\n",
    "southvark_deaths_8 = [115,43,48,102,83,81,68,42,1,pd.NA,96,59,11,52,61,\n",
    "                      21,52,84,19,9,25,6,34,63,34,5,19,30,pd.NA,pd.NA,pd.NA,pd.NA]\n",
    "\n",
    "lambeth_deaths_8 = [pd.NA,pd.NA,pd.NA,pd.NA,pd.NA,pd.NA,pd.NA,pd.NA,pd.NA,pd.NA,pd.NA,pd.NA,\n",
    "                    13,5,7,8,6,4,1,1,8,9,13,5,3,2,pd.NA,9,2,1,pd.NA,1]\n",
    "\n",
    "pump_deaths_8 = [pd.NA,pd.NA,pd.NA,pd.NA,pd.NA,pd.NA,pd.NA,4,2,1,pd.NA,pd.NA,pd.NA,pd.NA,pd.NA,\n",
    "                 pd.NA,pd.NA,pd.NA,1,pd.NA,1,pd.NA,1,3,1,pd.NA,5,2,1,5,pd.NA,2]\n",
    "\n",
    "river_etc_8 = [10,5,3,21,4,pd.NA,35,8,8,pd.NA,pd.NA,pd.NA,pd.NA,pd.NA,pd.NA,pd.NA,pd.NA,pd.NA,\n",
    "               pd.NA,pd.NA,2,1,pd.NA,pd.NA,pd.NA,pd.NA,pd.NA,pd.NA,5,pd.NA,pd.NA,pd.NA]\n",
    "\n",
    "unknown_8 = [pd.NA,5,pd.NA,pd.NA,pd.NA,pd.NA,pd.NA,pd.NA,pd.NA,pd.NA,pd.NA,pd.NA,1,pd.NA,3,\n",
    "             pd.NA,pd.NA,2,pd.NA,pd.NA,pd.NA,2,5,pd.NA,pd.NA,2,pd.NA,1,pd.NA,pd.NA,pd.NA,1]"
   ]
  },
  {
   "cell_type": "code",
   "execution_count": 50,
   "metadata": {},
   "outputs": [
    {
     "data": {
      "text/plain": [
       "(32, 32, 32, 32, 32, 32)"
      ]
     },
     "execution_count": 50,
     "metadata": {},
     "output_type": "execute_result"
    }
   ],
   "source": [
    "# sanity check\n",
    "\n",
    "len(deaths_8), len(southvark_deaths_8), len(lambeth_deaths_8), len(pump_deaths_8), len(river_etc_8), len(river_etc_8)"
   ]
  },
  {
   "cell_type": "code",
   "execution_count": 51,
   "metadata": {},
   "outputs": [
    {
     "data": {
      "text/html": [
       "<div>\n",
       "<style scoped>\n",
       "    .dataframe tbody tr th:only-of-type {\n",
       "        vertical-align: middle;\n",
       "    }\n",
       "\n",
       "    .dataframe tbody tr th {\n",
       "        vertical-align: top;\n",
       "    }\n",
       "\n",
       "    .dataframe thead th {\n",
       "        text-align: right;\n",
       "    }\n",
       "</style>\n",
       "<table border=\"1\" class=\"dataframe\">\n",
       "  <thead>\n",
       "    <tr style=\"text-align: right;\">\n",
       "      <th></th>\n",
       "      <th>Sub-Districts</th>\n",
       "      <th>Population in 1851</th>\n",
       "      <th>Deaths from Cholera in seven weeks ending August 26th</th>\n",
       "      <th>Southvark &amp; Vauxhall</th>\n",
       "      <th>Lambeth</th>\n",
       "      <th>Pump-wells</th>\n",
       "      <th>River Thames, ditches etc</th>\n",
       "      <th>Unascertained</th>\n",
       "    </tr>\n",
       "  </thead>\n",
       "  <tbody>\n",
       "    <tr>\n",
       "      <th>0</th>\n",
       "      <td>St. Saviour, Southwark</td>\n",
       "      <td>19709</td>\n",
       "      <td>125</td>\n",
       "      <td>115</td>\n",
       "      <td>&lt;NA&gt;</td>\n",
       "      <td>&lt;NA&gt;</td>\n",
       "      <td>10</td>\n",
       "      <td>&lt;NA&gt;</td>\n",
       "    </tr>\n",
       "    <tr>\n",
       "      <th>1</th>\n",
       "      <td>St. Olvae, Southward</td>\n",
       "      <td>8015</td>\n",
       "      <td>53</td>\n",
       "      <td>43</td>\n",
       "      <td>&lt;NA&gt;</td>\n",
       "      <td>&lt;NA&gt;</td>\n",
       "      <td>5</td>\n",
       "      <td>5</td>\n",
       "    </tr>\n",
       "    <tr>\n",
       "      <th>2</th>\n",
       "      <td>St. John, Horsleydown</td>\n",
       "      <td>11360</td>\n",
       "      <td>51</td>\n",
       "      <td>48</td>\n",
       "      <td>&lt;NA&gt;</td>\n",
       "      <td>&lt;NA&gt;</td>\n",
       "      <td>3</td>\n",
       "      <td>&lt;NA&gt;</td>\n",
       "    </tr>\n",
       "    <tr>\n",
       "      <th>3</th>\n",
       "      <td>St. James, Bermondsey</td>\n",
       "      <td>18899</td>\n",
       "      <td>123</td>\n",
       "      <td>102</td>\n",
       "      <td>&lt;NA&gt;</td>\n",
       "      <td>&lt;NA&gt;</td>\n",
       "      <td>21</td>\n",
       "      <td>&lt;NA&gt;</td>\n",
       "    </tr>\n",
       "    <tr>\n",
       "      <th>4</th>\n",
       "      <td>St. Mary Magdalen</td>\n",
       "      <td>13934</td>\n",
       "      <td>87</td>\n",
       "      <td>83</td>\n",
       "      <td>&lt;NA&gt;</td>\n",
       "      <td>&lt;NA&gt;</td>\n",
       "      <td>4</td>\n",
       "      <td>&lt;NA&gt;</td>\n",
       "    </tr>\n",
       "  </tbody>\n",
       "</table>\n",
       "</div>"
      ],
      "text/plain": [
       "            Sub-Districts  Population in 1851  \\\n",
       "0  St. Saviour, Southwark               19709   \n",
       "1    St. Olvae, Southward                8015   \n",
       "2   St. John, Horsleydown               11360   \n",
       "3   St. James, Bermondsey               18899   \n",
       "4       St. Mary Magdalen               13934   \n",
       "\n",
       "  Deaths from Cholera in seven weeks ending August 26th Southvark & Vauxhall  \\\n",
       "0                                                125                     115   \n",
       "1                                                 53                      43   \n",
       "2                                                 51                      48   \n",
       "3                                                123                     102   \n",
       "4                                                 87                      83   \n",
       "\n",
       "  Lambeth Pump-wells River Thames, ditches etc Unascertained  \n",
       "0    <NA>       <NA>                        10          <NA>  \n",
       "1    <NA>       <NA>                         5             5  \n",
       "2    <NA>       <NA>                         3          <NA>  \n",
       "3    <NA>       <NA>                        21          <NA>  \n",
       "4    <NA>       <NA>                         4          <NA>  "
      ]
     },
     "execution_count": 51,
     "metadata": {},
     "output_type": "execute_result"
    }
   ],
   "source": [
    "table_8_df = pd.DataFrame({'Sub-Districts': sub_districts_7_8,\n",
    "                           'Population in 1851': population_in_1851_7_8,\n",
    "                           'Deaths from Cholera in seven weeks ending August 26th': deaths_8,\n",
    "                           'Southvark & Vauxhall': southvark_deaths_8,\n",
    "                           'Lambeth': lambeth_deaths_8,\n",
    "                           'Pump-wells': pump_deaths_8,\n",
    "                           'River Thames, ditches etc': river_etc_8,\n",
    "                           'Unascertained': unknown_8})\n",
    "\n",
    "table_8_df.head()"
   ]
  },
  {
   "cell_type": "markdown",
   "metadata": {},
   "source": [
    "\n",
    "##### table 9: southvark vs lambeth deaths during the first seven weeks of the epidemic of 1853\n"
   ]
  },
  {
   "cell_type": "code",
   "execution_count": 52,
   "metadata": {},
   "outputs": [],
   "source": [
    "number_of_houses_9 = [40046, 26107, 256423]\n",
    "deaths_from_cholera_9 = [1263,98,1422]\n",
    "deaths_in_each_10000_houses_9 = [315, 37, 59]\n"
   ]
  },
  {
   "cell_type": "code",
   "execution_count": 53,
   "metadata": {},
   "outputs": [
    {
     "data": {
      "text/html": [
       "<div>\n",
       "<style scoped>\n",
       "    .dataframe tbody tr th:only-of-type {\n",
       "        vertical-align: middle;\n",
       "    }\n",
       "\n",
       "    .dataframe tbody tr th {\n",
       "        vertical-align: top;\n",
       "    }\n",
       "\n",
       "    .dataframe thead th {\n",
       "        text-align: right;\n",
       "    }\n",
       "</style>\n",
       "<table border=\"1\" class=\"dataframe\">\n",
       "  <thead>\n",
       "    <tr style=\"text-align: right;\">\n",
       "      <th></th>\n",
       "      <th>Number of houses</th>\n",
       "      <th>Deaths from Cholera</th>\n",
       "      <th>Deaths in each 10000 houses</th>\n",
       "    </tr>\n",
       "  </thead>\n",
       "  <tbody>\n",
       "    <tr>\n",
       "      <th>Southvark and Vauxhall Company</th>\n",
       "      <td>40046</td>\n",
       "      <td>1263</td>\n",
       "      <td>315</td>\n",
       "    </tr>\n",
       "    <tr>\n",
       "      <th>Lambeth Company</th>\n",
       "      <td>26107</td>\n",
       "      <td>98</td>\n",
       "      <td>37</td>\n",
       "    </tr>\n",
       "    <tr>\n",
       "      <th>Rest of London</th>\n",
       "      <td>256423</td>\n",
       "      <td>1422</td>\n",
       "      <td>59</td>\n",
       "    </tr>\n",
       "  </tbody>\n",
       "</table>\n",
       "</div>"
      ],
      "text/plain": [
       "                                Number of houses  Deaths from Cholera  \\\n",
       "Southvark and Vauxhall Company             40046                 1263   \n",
       "Lambeth Company                            26107                   98   \n",
       "Rest of London                            256423                 1422   \n",
       "\n",
       "                                Deaths in each 10000 houses  \n",
       "Southvark and Vauxhall Company                          315  \n",
       "Lambeth Company                                          37  \n",
       "Rest of London                                           59  "
      ]
     },
     "execution_count": 53,
     "metadata": {},
     "output_type": "execute_result"
    }
   ],
   "source": [
    "table_9_df = pd.DataFrame({'Number of houses': number_of_houses_9,\n",
    "              'Deaths from Cholera': deaths_from_cholera_9,\n",
    "              'Deaths in each 10000 houses': deaths_in_each_10000_houses_9},\n",
    "              index=['Southvark and Vauxhall Company', 'Lambeth Company', 'Rest of London'])\n",
    "\n",
    "table_9_df"
   ]
  },
  {
   "cell_type": "code",
   "execution_count": 54,
   "metadata": {},
   "outputs": [
    {
     "data": {
      "text/html": [
       "<div>\n",
       "<style scoped>\n",
       "    .dataframe tbody tr th:only-of-type {\n",
       "        vertical-align: middle;\n",
       "    }\n",
       "\n",
       "    .dataframe tbody tr th {\n",
       "        vertical-align: top;\n",
       "    }\n",
       "\n",
       "    .dataframe thead th {\n",
       "        text-align: right;\n",
       "    }\n",
       "</style>\n",
       "<table border=\"1\" class=\"dataframe\">\n",
       "  <thead>\n",
       "    <tr style=\"text-align: right;\">\n",
       "      <th></th>\n",
       "      <th>Number of houses</th>\n",
       "      <th>Deaths from Cholera</th>\n",
       "      <th>Deaths in each 10000 houses</th>\n",
       "      <th>check death proportion</th>\n",
       "    </tr>\n",
       "  </thead>\n",
       "  <tbody>\n",
       "    <tr>\n",
       "      <th>Southvark and Vauxhall Company</th>\n",
       "      <td>40046</td>\n",
       "      <td>1263</td>\n",
       "      <td>315</td>\n",
       "      <td>315.387305</td>\n",
       "    </tr>\n",
       "    <tr>\n",
       "      <th>Lambeth Company</th>\n",
       "      <td>26107</td>\n",
       "      <td>98</td>\n",
       "      <td>37</td>\n",
       "      <td>37.537825</td>\n",
       "    </tr>\n",
       "    <tr>\n",
       "      <th>Rest of London</th>\n",
       "      <td>256423</td>\n",
       "      <td>1422</td>\n",
       "      <td>59</td>\n",
       "      <td>55.455244</td>\n",
       "    </tr>\n",
       "  </tbody>\n",
       "</table>\n",
       "</div>"
      ],
      "text/plain": [
       "                                Number of houses  Deaths from Cholera  \\\n",
       "Southvark and Vauxhall Company             40046                 1263   \n",
       "Lambeth Company                            26107                   98   \n",
       "Rest of London                            256423                 1422   \n",
       "\n",
       "                                Deaths in each 10000 houses  \\\n",
       "Southvark and Vauxhall Company                          315   \n",
       "Lambeth Company                                          37   \n",
       "Rest of London                                           59   \n",
       "\n",
       "                                check death proportion  \n",
       "Southvark and Vauxhall Company              315.387305  \n",
       "Lambeth Company                              37.537825  \n",
       "Rest of London                               55.455244  "
      ]
     },
     "execution_count": 54,
     "metadata": {},
     "output_type": "execute_result"
    }
   ],
   "source": [
    "table_9_df_check = table_9_df.copy()\n",
    "\n",
    "table_9_df_check['check death proportion'] = (table_9_df_check['Deaths from Cholera'] / table_9_df_check['Number of houses']) * 10000\n",
    "\n",
    "table_9_df_check"
   ]
  },
  {
   "cell_type": "markdown",
   "metadata": {},
   "source": [
    "the last entry does not match. i wonder why?"
   ]
  },
  {
   "cell_type": "markdown",
   "metadata": {},
   "source": [
    "\n",
    "##### table 10: sourthvark vs lambeth deaths during the next seven weeks of the epidemic of 1853 (three other companies included)\n"
   ]
  },
  {
   "cell_type": "code",
   "execution_count": 55,
   "metadata": {},
   "outputs": [],
   "source": [
    "start_date_10 = date(1854,9,2)\n",
    "week_ending_10 = pd.date_range(start_date_10,periods=7,freq='7d')"
   ]
  },
  {
   "cell_type": "code",
   "execution_count": 56,
   "metadata": {},
   "outputs": [],
   "source": [
    "total_deaths_from_cholera_10 = [670, 972, 856, 724, 383, 200, 115]\n",
    "southvark_deaths_10 = [399, 580, 524, 432, 228, 121, 69]\n",
    "lambeth_deaths_10 = [45, 72, 66, 72, 25, 14, 8]\n",
    "kent_deaths_10 = [38, 45, 48, 28, 19, 10, 3]\n",
    "pumps_and_other_deaths_10 = [72, 62, 44, 62, 24, 9, 6]\n",
    "uncertain_source_deaths_10 = [116, 213, 174, 130, 87, 46, 29]"
   ]
  },
  {
   "cell_type": "code",
   "execution_count": 57,
   "metadata": {},
   "outputs": [
    {
     "data": {
      "text/html": [
       "<div>\n",
       "<style scoped>\n",
       "    .dataframe tbody tr th:only-of-type {\n",
       "        vertical-align: middle;\n",
       "    }\n",
       "\n",
       "    .dataframe tbody tr th {\n",
       "        vertical-align: top;\n",
       "    }\n",
       "\n",
       "    .dataframe thead th {\n",
       "        text-align: right;\n",
       "    }\n",
       "</style>\n",
       "<table border=\"1\" class=\"dataframe\">\n",
       "  <thead>\n",
       "    <tr style=\"text-align: right;\">\n",
       "      <th></th>\n",
       "      <th>Deaths from Cholera</th>\n",
       "      <th>Southvark and Vauxhall</th>\n",
       "      <th>Lambeth</th>\n",
       "      <th>Kent Company</th>\n",
       "      <th>Pumps and other sources</th>\n",
       "      <th>Not ascertained</th>\n",
       "    </tr>\n",
       "  </thead>\n",
       "  <tbody>\n",
       "    <tr>\n",
       "      <th>1854-09-02</th>\n",
       "      <td>670</td>\n",
       "      <td>399</td>\n",
       "      <td>45</td>\n",
       "      <td>38</td>\n",
       "      <td>72</td>\n",
       "      <td>116</td>\n",
       "    </tr>\n",
       "    <tr>\n",
       "      <th>1854-09-09</th>\n",
       "      <td>972</td>\n",
       "      <td>580</td>\n",
       "      <td>72</td>\n",
       "      <td>45</td>\n",
       "      <td>62</td>\n",
       "      <td>213</td>\n",
       "    </tr>\n",
       "    <tr>\n",
       "      <th>1854-09-16</th>\n",
       "      <td>856</td>\n",
       "      <td>524</td>\n",
       "      <td>66</td>\n",
       "      <td>48</td>\n",
       "      <td>44</td>\n",
       "      <td>174</td>\n",
       "    </tr>\n",
       "    <tr>\n",
       "      <th>1854-09-23</th>\n",
       "      <td>724</td>\n",
       "      <td>432</td>\n",
       "      <td>72</td>\n",
       "      <td>28</td>\n",
       "      <td>62</td>\n",
       "      <td>130</td>\n",
       "    </tr>\n",
       "    <tr>\n",
       "      <th>1854-09-30</th>\n",
       "      <td>383</td>\n",
       "      <td>228</td>\n",
       "      <td>25</td>\n",
       "      <td>19</td>\n",
       "      <td>24</td>\n",
       "      <td>87</td>\n",
       "    </tr>\n",
       "    <tr>\n",
       "      <th>1854-10-07</th>\n",
       "      <td>200</td>\n",
       "      <td>121</td>\n",
       "      <td>14</td>\n",
       "      <td>10</td>\n",
       "      <td>9</td>\n",
       "      <td>46</td>\n",
       "    </tr>\n",
       "    <tr>\n",
       "      <th>1854-10-14</th>\n",
       "      <td>115</td>\n",
       "      <td>69</td>\n",
       "      <td>8</td>\n",
       "      <td>3</td>\n",
       "      <td>6</td>\n",
       "      <td>29</td>\n",
       "    </tr>\n",
       "  </tbody>\n",
       "</table>\n",
       "</div>"
      ],
      "text/plain": [
       "            Deaths from Cholera  Southvark and Vauxhall  Lambeth  \\\n",
       "1854-09-02                  670                     399       45   \n",
       "1854-09-09                  972                     580       72   \n",
       "1854-09-16                  856                     524       66   \n",
       "1854-09-23                  724                     432       72   \n",
       "1854-09-30                  383                     228       25   \n",
       "1854-10-07                  200                     121       14   \n",
       "1854-10-14                  115                      69        8   \n",
       "\n",
       "            Kent Company  Pumps and other sources  Not ascertained  \n",
       "1854-09-02            38                       72              116  \n",
       "1854-09-09            45                       62              213  \n",
       "1854-09-16            48                       44              174  \n",
       "1854-09-23            28                       62              130  \n",
       "1854-09-30            19                       24               87  \n",
       "1854-10-07            10                        9               46  \n",
       "1854-10-14             3                        6               29  "
      ]
     },
     "execution_count": 57,
     "metadata": {},
     "output_type": "execute_result"
    }
   ],
   "source": [
    "table_10_df = pd.DataFrame({'Deaths from Cholera': total_deaths_from_cholera_10,\n",
    "              'Southvark and Vauxhall': southvark_deaths_10,\n",
    "              'Lambeth': lambeth_deaths_10,\n",
    "              'Kent Company': kent_deaths_10,\n",
    "              'Pumps and other sources': pumps_and_other_deaths_10,\n",
    "              'Not ascertained': uncertain_source_deaths_10},\n",
    "              index=week_ending_10)\n",
    "\n",
    "table_10_df"
   ]
  },
  {
   "cell_type": "code",
   "execution_count": 58,
   "metadata": {},
   "outputs": [
    {
     "data": {
      "text/html": [
       "<div>\n",
       "<style scoped>\n",
       "    .dataframe tbody tr th:only-of-type {\n",
       "        vertical-align: middle;\n",
       "    }\n",
       "\n",
       "    .dataframe tbody tr th {\n",
       "        vertical-align: top;\n",
       "    }\n",
       "\n",
       "    .dataframe thead th {\n",
       "        text-align: right;\n",
       "    }\n",
       "</style>\n",
       "<table border=\"1\" class=\"dataframe\">\n",
       "  <thead>\n",
       "    <tr style=\"text-align: right;\">\n",
       "      <th></th>\n",
       "      <th>Deaths from Cholera</th>\n",
       "      <th>Total Deaths</th>\n",
       "    </tr>\n",
       "  </thead>\n",
       "  <tbody>\n",
       "    <tr>\n",
       "      <th>1854-09-02</th>\n",
       "      <td>670</td>\n",
       "      <td>670</td>\n",
       "    </tr>\n",
       "    <tr>\n",
       "      <th>1854-09-09</th>\n",
       "      <td>972</td>\n",
       "      <td>972</td>\n",
       "    </tr>\n",
       "    <tr>\n",
       "      <th>1854-09-16</th>\n",
       "      <td>856</td>\n",
       "      <td>856</td>\n",
       "    </tr>\n",
       "    <tr>\n",
       "      <th>1854-09-23</th>\n",
       "      <td>724</td>\n",
       "      <td>724</td>\n",
       "    </tr>\n",
       "    <tr>\n",
       "      <th>1854-09-30</th>\n",
       "      <td>383</td>\n",
       "      <td>383</td>\n",
       "    </tr>\n",
       "    <tr>\n",
       "      <th>1854-10-07</th>\n",
       "      <td>200</td>\n",
       "      <td>200</td>\n",
       "    </tr>\n",
       "    <tr>\n",
       "      <th>1854-10-14</th>\n",
       "      <td>115</td>\n",
       "      <td>115</td>\n",
       "    </tr>\n",
       "  </tbody>\n",
       "</table>\n",
       "</div>"
      ],
      "text/plain": [
       "            Deaths from Cholera  Total Deaths\n",
       "1854-09-02                  670           670\n",
       "1854-09-09                  972           972\n",
       "1854-09-16                  856           856\n",
       "1854-09-23                  724           724\n",
       "1854-09-30                  383           383\n",
       "1854-10-07                  200           200\n",
       "1854-10-14                  115           115"
      ]
     },
     "execution_count": 58,
     "metadata": {},
     "output_type": "execute_result"
    }
   ],
   "source": [
    "table_10_df_check = table_10_df.copy()\n",
    "\n",
    "table_10_df_check['Total Deaths'] = table_10_df_check['Southvark and Vauxhall'] + table_10_df_check['Lambeth'] + table_10_df_check['Kent Company'] + table_10_df_check['Pumps and other sources'] + table_10_df_check['Not ascertained']\n",
    "\n",
    "table_10_df_check[['Deaths from Cholera', 'Total Deaths']]"
   ]
  },
  {
   "cell_type": "markdown",
   "metadata": {},
   "source": [
    "the following sums match the last row of the table."
   ]
  },
  {
   "cell_type": "code",
   "execution_count": 59,
   "metadata": {},
   "outputs": [
    {
     "data": {
      "text/plain": [
       "Deaths from Cholera        3920\n",
       "Southvark and Vauxhall     2353\n",
       "Lambeth                     302\n",
       "Kent Company                191\n",
       "Pumps and other sources     279\n",
       "Not ascertained             795\n",
       "Total Deaths               3920\n",
       "dtype: int64"
      ]
     },
     "execution_count": 59,
     "metadata": {},
     "output_type": "execute_result"
    }
   ],
   "source": [
    "table_10_df_check.sum()"
   ]
  },
  {
   "cell_type": "markdown",
   "metadata": {},
   "source": [
    "\n",
    "##### table 11: combination of table 8 and 10 to calculate deaths in 14 weeks of the epidemic, ending october 14\n"
   ]
  },
  {
   "cell_type": "code",
   "execution_count": 60,
   "metadata": {},
   "outputs": [],
   "source": [
    "index_11 = ['London', 'West Districts', 'North Districts', 'Central Districts', \n",
    "            'East Districts', 'South Districts', \n",
    "            'Houses supplied by Southvark and Vauxhall Company',\n",
    "            'Houses supplied by Lambeth Company']\n",
    "\n",
    "population_1851_11 = [2_362_236, 376_427, 490_396, 393_256, 485_522, 616_635, 266_516, 173_748]\n",
    "deaths_by_cholera_in_14_weeks_11 = [10_367, 1_992, 735, 612, 1_461, 5_567, 4_093, 461]\n",
    "deaths_in_10000_living_11 = [43, 53, 14, 15, 30, 90, 153, 26]"
   ]
  },
  {
   "cell_type": "code",
   "execution_count": 61,
   "metadata": {},
   "outputs": [
    {
     "data": {
      "text/plain": [
       "(8, 8, 8, 8)"
      ]
     },
     "execution_count": 61,
     "metadata": {},
     "output_type": "execute_result"
    }
   ],
   "source": [
    "# sanity check\n",
    "\n",
    "len(index_11), len(population_1851_11), len(deaths_by_cholera_in_14_weeks_11), len(deaths_in_10000_living_11)"
   ]
  },
  {
   "cell_type": "code",
   "execution_count": 62,
   "metadata": {},
   "outputs": [
    {
     "data": {
      "text/html": [
       "<div>\n",
       "<style scoped>\n",
       "    .dataframe tbody tr th:only-of-type {\n",
       "        vertical-align: middle;\n",
       "    }\n",
       "\n",
       "    .dataframe tbody tr th {\n",
       "        vertical-align: top;\n",
       "    }\n",
       "\n",
       "    .dataframe thead th {\n",
       "        text-align: right;\n",
       "    }\n",
       "</style>\n",
       "<table border=\"1\" class=\"dataframe\">\n",
       "  <thead>\n",
       "    <tr style=\"text-align: right;\">\n",
       "      <th></th>\n",
       "      <th>Population in 1851</th>\n",
       "      <th>Deaths by Cholera in 14 wks ening Oct 14</th>\n",
       "      <th>Deaths in 10,000 living</th>\n",
       "    </tr>\n",
       "  </thead>\n",
       "  <tbody>\n",
       "    <tr>\n",
       "      <th>London</th>\n",
       "      <td>2362236</td>\n",
       "      <td>10367</td>\n",
       "      <td>43</td>\n",
       "    </tr>\n",
       "    <tr>\n",
       "      <th>West Districts</th>\n",
       "      <td>376427</td>\n",
       "      <td>1992</td>\n",
       "      <td>53</td>\n",
       "    </tr>\n",
       "    <tr>\n",
       "      <th>North Districts</th>\n",
       "      <td>490396</td>\n",
       "      <td>735</td>\n",
       "      <td>14</td>\n",
       "    </tr>\n",
       "    <tr>\n",
       "      <th>Central Districts</th>\n",
       "      <td>393256</td>\n",
       "      <td>612</td>\n",
       "      <td>15</td>\n",
       "    </tr>\n",
       "    <tr>\n",
       "      <th>East Districts</th>\n",
       "      <td>485522</td>\n",
       "      <td>1461</td>\n",
       "      <td>30</td>\n",
       "    </tr>\n",
       "    <tr>\n",
       "      <th>South Districts</th>\n",
       "      <td>616635</td>\n",
       "      <td>5567</td>\n",
       "      <td>90</td>\n",
       "    </tr>\n",
       "    <tr>\n",
       "      <th>Houses supplied by Southvark and Vauxhall Company</th>\n",
       "      <td>266516</td>\n",
       "      <td>4093</td>\n",
       "      <td>153</td>\n",
       "    </tr>\n",
       "    <tr>\n",
       "      <th>Houses supplied by Lambeth Company</th>\n",
       "      <td>173748</td>\n",
       "      <td>461</td>\n",
       "      <td>26</td>\n",
       "    </tr>\n",
       "  </tbody>\n",
       "</table>\n",
       "</div>"
      ],
      "text/plain": [
       "                                                   Population in 1851  \\\n",
       "London                                                        2362236   \n",
       "West Districts                                                 376427   \n",
       "North Districts                                                490396   \n",
       "Central Districts                                              393256   \n",
       "East Districts                                                 485522   \n",
       "South Districts                                                616635   \n",
       "Houses supplied by Southvark and Vauxhall Company              266516   \n",
       "Houses supplied by Lambeth Company                             173748   \n",
       "\n",
       "                                                   Deaths by Cholera in 14 wks ening Oct 14  \\\n",
       "London                                                                                10367   \n",
       "West Districts                                                                         1992   \n",
       "North Districts                                                                         735   \n",
       "Central Districts                                                                       612   \n",
       "East Districts                                                                         1461   \n",
       "South Districts                                                                        5567   \n",
       "Houses supplied by Southvark and Vauxhall Company                                      4093   \n",
       "Houses supplied by Lambeth Company                                                      461   \n",
       "\n",
       "                                                   Deaths in 10,000 living  \n",
       "London                                                                  43  \n",
       "West Districts                                                          53  \n",
       "North Districts                                                         14  \n",
       "Central Districts                                                       15  \n",
       "East Districts                                                          30  \n",
       "South Districts                                                         90  \n",
       "Houses supplied by Southvark and Vauxhall Company                      153  \n",
       "Houses supplied by Lambeth Company                                      26  "
      ]
     },
     "execution_count": 62,
     "metadata": {},
     "output_type": "execute_result"
    }
   ],
   "source": [
    "table_11_df = pd.DataFrame({'Population in 1851': population_1851_11,\n",
    "              'Deaths by Cholera in 14 wks ening Oct 14': deaths_by_cholera_in_14_weeks_11,\n",
    "              'Deaths in 10,000 living': deaths_in_10000_living_11},\n",
    "              index=index_11)\n",
    "\n",
    "table_11_df"
   ]
  },
  {
   "cell_type": "code",
   "execution_count": 63,
   "metadata": {},
   "outputs": [
    {
     "data": {
      "text/html": [
       "<div>\n",
       "<style scoped>\n",
       "    .dataframe tbody tr th:only-of-type {\n",
       "        vertical-align: middle;\n",
       "    }\n",
       "\n",
       "    .dataframe tbody tr th {\n",
       "        vertical-align: top;\n",
       "    }\n",
       "\n",
       "    .dataframe thead th {\n",
       "        text-align: right;\n",
       "    }\n",
       "</style>\n",
       "<table border=\"1\" class=\"dataframe\">\n",
       "  <thead>\n",
       "    <tr style=\"text-align: right;\">\n",
       "      <th></th>\n",
       "      <th>Population in 1851</th>\n",
       "      <th>Deaths by Cholera in 14 wks ening Oct 14</th>\n",
       "      <th>Deaths in 10,000 living</th>\n",
       "    </tr>\n",
       "  </thead>\n",
       "  <tbody>\n",
       "    <tr>\n",
       "      <th>London</th>\n",
       "      <td>2362236</td>\n",
       "      <td>10367</td>\n",
       "      <td>43</td>\n",
       "    </tr>\n",
       "  </tbody>\n",
       "</table>\n",
       "</div>"
      ],
      "text/plain": [
       "        Population in 1851  Deaths by Cholera in 14 wks ening Oct 14  \\\n",
       "London             2362236                                     10367   \n",
       "\n",
       "        Deaths in 10,000 living  \n",
       "London                       43  "
      ]
     },
     "execution_count": 63,
     "metadata": {},
     "output_type": "execute_result"
    }
   ],
   "source": [
    "table_11_london = table_11_df.head(1)\n",
    "\n",
    "table_11_london"
   ]
  },
  {
   "cell_type": "code",
   "execution_count": 64,
   "metadata": {},
   "outputs": [
    {
     "data": {
      "text/html": [
       "<div>\n",
       "<style scoped>\n",
       "    .dataframe tbody tr th:only-of-type {\n",
       "        vertical-align: middle;\n",
       "    }\n",
       "\n",
       "    .dataframe tbody tr th {\n",
       "        vertical-align: top;\n",
       "    }\n",
       "\n",
       "    .dataframe thead th {\n",
       "        text-align: right;\n",
       "    }\n",
       "</style>\n",
       "<table border=\"1\" class=\"dataframe\">\n",
       "  <thead>\n",
       "    <tr style=\"text-align: right;\">\n",
       "      <th></th>\n",
       "      <th>Population in 1851</th>\n",
       "      <th>Deaths by Cholera in 14 wks ening Oct 14</th>\n",
       "      <th>Deaths in 10,000 living</th>\n",
       "    </tr>\n",
       "  </thead>\n",
       "  <tbody>\n",
       "    <tr>\n",
       "      <th>West Districts</th>\n",
       "      <td>376427</td>\n",
       "      <td>1992</td>\n",
       "      <td>53</td>\n",
       "    </tr>\n",
       "    <tr>\n",
       "      <th>North Districts</th>\n",
       "      <td>490396</td>\n",
       "      <td>735</td>\n",
       "      <td>14</td>\n",
       "    </tr>\n",
       "    <tr>\n",
       "      <th>Central Districts</th>\n",
       "      <td>393256</td>\n",
       "      <td>612</td>\n",
       "      <td>15</td>\n",
       "    </tr>\n",
       "    <tr>\n",
       "      <th>East Districts</th>\n",
       "      <td>485522</td>\n",
       "      <td>1461</td>\n",
       "      <td>30</td>\n",
       "    </tr>\n",
       "    <tr>\n",
       "      <th>South Districts</th>\n",
       "      <td>616635</td>\n",
       "      <td>5567</td>\n",
       "      <td>90</td>\n",
       "    </tr>\n",
       "  </tbody>\n",
       "</table>\n",
       "</div>"
      ],
      "text/plain": [
       "                   Population in 1851  \\\n",
       "West Districts                 376427   \n",
       "North Districts                490396   \n",
       "Central Districts              393256   \n",
       "East Districts                 485522   \n",
       "South Districts                616635   \n",
       "\n",
       "                   Deaths by Cholera in 14 wks ening Oct 14  \\\n",
       "West Districts                                         1992   \n",
       "North Districts                                         735   \n",
       "Central Districts                                       612   \n",
       "East Districts                                         1461   \n",
       "South Districts                                        5567   \n",
       "\n",
       "                   Deaths in 10,000 living  \n",
       "West Districts                          53  \n",
       "North Districts                         14  \n",
       "Central Districts                       15  \n",
       "East Districts                          30  \n",
       "South Districts                         90  "
      ]
     },
     "execution_count": 64,
     "metadata": {},
     "output_type": "execute_result"
    }
   ],
   "source": [
    "table_11_districts = table_11_df[(table_11_df.index == 'West Districts') |\n",
    "                                 (table_11_df.index == 'North Districts') |\n",
    "                                  (table_11_df.index == 'Central Districts') |\n",
    "                                   (table_11_df.index == 'East Districts') |\n",
    "                                    (table_11_df.index == 'South Districts') ]\n",
    "\n",
    "table_11_districts"
   ]
  },
  {
   "cell_type": "code",
   "execution_count": 65,
   "metadata": {},
   "outputs": [
    {
     "data": {
      "text/html": [
       "<div>\n",
       "<style scoped>\n",
       "    .dataframe tbody tr th:only-of-type {\n",
       "        vertical-align: middle;\n",
       "    }\n",
       "\n",
       "    .dataframe tbody tr th {\n",
       "        vertical-align: top;\n",
       "    }\n",
       "\n",
       "    .dataframe thead th {\n",
       "        text-align: right;\n",
       "    }\n",
       "</style>\n",
       "<table border=\"1\" class=\"dataframe\">\n",
       "  <thead>\n",
       "    <tr style=\"text-align: right;\">\n",
       "      <th></th>\n",
       "      <th>Population in 1851</th>\n",
       "      <th>Deaths by Cholera in 14 wks ening Oct 14</th>\n",
       "      <th>Deaths in 10,000 living</th>\n",
       "    </tr>\n",
       "  </thead>\n",
       "  <tbody>\n",
       "    <tr>\n",
       "      <th>Houses supplied by Southvark and Vauxhall Company</th>\n",
       "      <td>266516</td>\n",
       "      <td>4093</td>\n",
       "      <td>153</td>\n",
       "    </tr>\n",
       "    <tr>\n",
       "      <th>Houses supplied by Lambeth Company</th>\n",
       "      <td>173748</td>\n",
       "      <td>461</td>\n",
       "      <td>26</td>\n",
       "    </tr>\n",
       "  </tbody>\n",
       "</table>\n",
       "</div>"
      ],
      "text/plain": [
       "                                                   Population in 1851  \\\n",
       "Houses supplied by Southvark and Vauxhall Company              266516   \n",
       "Houses supplied by Lambeth Company                             173748   \n",
       "\n",
       "                                                   Deaths by Cholera in 14 wks ening Oct 14  \\\n",
       "Houses supplied by Southvark and Vauxhall Company                                      4093   \n",
       "Houses supplied by Lambeth Company                                                      461   \n",
       "\n",
       "                                                   Deaths in 10,000 living  \n",
       "Houses supplied by Southvark and Vauxhall Company                      153  \n",
       "Houses supplied by Lambeth Company                                      26  "
      ]
     },
     "execution_count": 65,
     "metadata": {},
     "output_type": "execute_result"
    }
   ],
   "source": [
    "table_11_water = table_11_df[(table_11_df.index == 'Houses supplied by Southvark and Vauxhall Company') |\n",
    "                                (table_11_df.index == 'Houses supplied by Lambeth Company')]\n",
    "\n",
    "table_11_water"
   ]
  },
  {
   "cell_type": "code",
   "execution_count": 66,
   "metadata": {},
   "outputs": [
    {
     "data": {
      "text/plain": [
       "Population in 1851                          2362236\n",
       "Deaths by Cholera in 14 wks ening Oct 14      10367\n",
       "Deaths in 10,000 living                         202\n",
       "dtype: int64"
      ]
     },
     "execution_count": 66,
     "metadata": {},
     "output_type": "execute_result"
    }
   ],
   "source": [
    "table_11_districts.sum()"
   ]
  },
  {
   "cell_type": "code",
   "execution_count": 67,
   "metadata": {},
   "outputs": [
    {
     "data": {
      "text/html": [
       "<div>\n",
       "<style scoped>\n",
       "    .dataframe tbody tr th:only-of-type {\n",
       "        vertical-align: middle;\n",
       "    }\n",
       "\n",
       "    .dataframe tbody tr th {\n",
       "        vertical-align: top;\n",
       "    }\n",
       "\n",
       "    .dataframe thead th {\n",
       "        text-align: right;\n",
       "    }\n",
       "</style>\n",
       "<table border=\"1\" class=\"dataframe\">\n",
       "  <thead>\n",
       "    <tr style=\"text-align: right;\">\n",
       "      <th></th>\n",
       "      <th>Population in 1851</th>\n",
       "      <th>Deaths by Cholera in 14 wks ening Oct 14</th>\n",
       "      <th>Deaths in 10,000 living</th>\n",
       "    </tr>\n",
       "  </thead>\n",
       "  <tbody>\n",
       "    <tr>\n",
       "      <th>London</th>\n",
       "      <td>2362236</td>\n",
       "      <td>10367</td>\n",
       "      <td>43</td>\n",
       "    </tr>\n",
       "  </tbody>\n",
       "</table>\n",
       "</div>"
      ],
      "text/plain": [
       "        Population in 1851  Deaths by Cholera in 14 wks ening Oct 14  \\\n",
       "London             2362236                                     10367   \n",
       "\n",
       "        Deaths in 10,000 living  \n",
       "London                       43  "
      ]
     },
     "execution_count": 67,
     "metadata": {},
     "output_type": "execute_result"
    }
   ],
   "source": [
    "table_11_london"
   ]
  },
  {
   "cell_type": "markdown",
   "metadata": {},
   "source": [
    "why are deaths in 10000 living different? because its not correct to add up proportion from different populations. the correct way to calculate it would be:"
   ]
  },
  {
   "cell_type": "code",
   "execution_count": 68,
   "metadata": {},
   "outputs": [
    {
     "data": {
      "text/plain": [
       "London    43.886386\n",
       "dtype: float64"
      ]
     },
     "execution_count": 68,
     "metadata": {},
     "output_type": "execute_result"
    }
   ],
   "source": [
    "(table_11_london['Deaths by Cholera in 14 wks ening Oct 14'] / table_11_london['Population in 1851'])*10000"
   ]
  },
  {
   "cell_type": "code",
   "execution_count": 69,
   "metadata": {},
   "outputs": [
    {
     "data": {
      "text/plain": [
       "Population in 1851                          440264\n",
       "Deaths by Cholera in 14 wks ening Oct 14      4554\n",
       "Deaths in 10,000 living                        179\n",
       "dtype: int64"
      ]
     },
     "execution_count": 69,
     "metadata": {},
     "output_type": "execute_result"
    }
   ],
   "source": [
    "table_11_water.sum()"
   ]
  },
  {
   "cell_type": "markdown",
   "metadata": {},
   "source": [
    "\n",
    "##### table 12: comparision of deaths in london subdistricts in 1849 and 1854 by water company\n"
   ]
  },
  {
   "cell_type": "markdown",
   "metadata": {},
   "source": [
    "the sub_district list is the same as of table 6 except for added sydenham."
   ]
  },
  {
   "cell_type": "code",
   "execution_count": 81,
   "metadata": {},
   "outputs": [],
   "source": [
    "sub_districts_12 = ['St. Saviour, Southwark', 'St. Olvae', 'St. John, Horsleydown',\n",
    "                 'St. James, Bermondsey', 'St. Mary Magdalen', 'Leather Market', 'Rotherhithe*',\n",
    "                 'Wandsworth', 'Battersea', 'Putney', 'Camberwell', 'Peckham', \n",
    "                 'Christchurch, Southwk.', 'Kent Road', 'Borough Road', 'London Road',\n",
    "                 'Trinity, Newington', 'St. Peter, Walworth', 'St. Mary, Newington',\n",
    "                 'Waterloo Road (1st part)', 'Waterloo Road (2nd part)', 'Lambeth Church (1st part)', \n",
    "                 'Lambeth Church (2nd part)', 'Kennington (1st part)', 'Kennington (2nd part)', \n",
    "                 'Brixton', 'Clapham', 'St. George, Camberwell', 'Norwood', 'Streatham',\n",
    "                 'Dulwich', 'Sydenham']\n",
    "\n",
    "deaths_1849_12 = [283,157,192,249,259,226,352,97,111,8,235,92,\n",
    "                  256,267,312,257,318,446,143,193,243,215,544,187,153,81,114,176,\n",
    "                  2,154,1,5]\n",
    "\n",
    "deaths_1854_12 = [371,161,148,362,244,237,282,59,171,9,240,174,\n",
    "                  113,174,270,93,210,388,92,58,117,49,193,303,142,48,165,132,\n",
    "                  10,15,pd.NA,12]\n",
    "\n",
    "water_supply_12 = [\"Southwark and Vauxhall Water Company only.\",\"Southwark and Vauxhall Water Company only.\",\n",
    "                  \"Southwark and Vauxhall Water Company only.\",\"Southwark and Vauxhall Water Company only.\",\n",
    "                  \"Southwark and Vauxhall Water Company only.\",\"Southwark and Vauxhall Water Company only.\",\n",
    "                  \"Southwark and Vauxhall Water Company only.\",\"Southwark and Vauxhall Water Company only.\",\n",
    "                  \"Southwark and Vauxhall Water Company only.\",\"Southwark and Vauxhall Water Company only.\",\n",
    "                  \"Southwark and Vauxhall Water Company only.\",\"Southwark and Vauxhall Water Company only.\",\n",
    "                  \"Lambeth Water Company, and Southwark and Vauxhall Company.\",\n",
    "                  \"Lambeth Water Company, and Southwark and Vauxhall Company.\",\n",
    "                  \"Lambeth Water Company, and Southwark and Vauxhall Company.\",\n",
    "                  \"Lambeth Water Company, and Southwark and Vauxhall Company.\",\n",
    "                  \"Lambeth Water Company, and Southwark and Vauxhall Company.\",\n",
    "                  \"Lambeth Water Company, and Southwark and Vauxhall Company.\",\n",
    "                  \"Lambeth Water Company, and Southwark and Vauxhall Company.\",\n",
    "                  \"Lambeth Water Company, and Southwark and Vauxhall Company.\",\n",
    "                  \"Lambeth Water Company, and Southwark and Vauxhall Company.\",\n",
    "                  \"Lambeth Water Company, and Southwark and Vauxhall Company.\",\n",
    "                  \"Lambeth Water Company, and Southwark and Vauxhall Company.\",\n",
    "                  \"Lambeth Water Company, and Southwark and Vauxhall Company.\",\n",
    "                  \"Lambeth Water Company, and Southwark and Vauxhall Company.\",\n",
    "                  \"Lambeth Water Company, and Southwark and Vauxhall Company.\",\n",
    "                  \"Lambeth Water Company, and Southwark and Vauxhall Company.\",\n",
    "                  \"Lambeth Water Company, and Southwark and Vauxhall Company.\",\n",
    "                  \"Lambeth Water Company only.\", \"Lambeth Water Company only.\", \"Lambeth Water Company only.\",\n",
    "                  \"Lambeth Water Company only.\"]"
   ]
  },
  {
   "cell_type": "code",
   "execution_count": 82,
   "metadata": {},
   "outputs": [
    {
     "data": {
      "text/plain": [
       "(32, 32, 32, 32)"
      ]
     },
     "execution_count": 82,
     "metadata": {},
     "output_type": "execute_result"
    }
   ],
   "source": [
    "# sanity check\n",
    "\n",
    "len(sub_districts_12), len(deaths_1849_12), len(deaths_1854_12), len(water_supply_12)"
   ]
  },
  {
   "cell_type": "code",
   "execution_count": 85,
   "metadata": {},
   "outputs": [
    {
     "data": {
      "text/html": [
       "<div>\n",
       "<style scoped>\n",
       "    .dataframe tbody tr th:only-of-type {\n",
       "        vertical-align: middle;\n",
       "    }\n",
       "\n",
       "    .dataframe tbody tr th {\n",
       "        vertical-align: top;\n",
       "    }\n",
       "\n",
       "    .dataframe thead th {\n",
       "        text-align: right;\n",
       "    }\n",
       "</style>\n",
       "<table border=\"1\" class=\"dataframe\">\n",
       "  <thead>\n",
       "    <tr style=\"text-align: right;\">\n",
       "      <th></th>\n",
       "      <th>Sub-Districts</th>\n",
       "      <th>Deaths from Cholera in 1849</th>\n",
       "      <th>Deaths from Cholera in 1854</th>\n",
       "      <th>Water Supply</th>\n",
       "    </tr>\n",
       "  </thead>\n",
       "  <tbody>\n",
       "    <tr>\n",
       "      <th>0</th>\n",
       "      <td>St. Saviour, Southwark</td>\n",
       "      <td>283</td>\n",
       "      <td>371</td>\n",
       "      <td>Southwark and Vauxhall Water Company only.</td>\n",
       "    </tr>\n",
       "    <tr>\n",
       "      <th>1</th>\n",
       "      <td>St. Olvae</td>\n",
       "      <td>157</td>\n",
       "      <td>161</td>\n",
       "      <td>Southwark and Vauxhall Water Company only.</td>\n",
       "    </tr>\n",
       "    <tr>\n",
       "      <th>2</th>\n",
       "      <td>St. John, Horsleydown</td>\n",
       "      <td>192</td>\n",
       "      <td>148</td>\n",
       "      <td>Southwark and Vauxhall Water Company only.</td>\n",
       "    </tr>\n",
       "    <tr>\n",
       "      <th>3</th>\n",
       "      <td>St. James, Bermondsey</td>\n",
       "      <td>249</td>\n",
       "      <td>362</td>\n",
       "      <td>Southwark and Vauxhall Water Company only.</td>\n",
       "    </tr>\n",
       "    <tr>\n",
       "      <th>4</th>\n",
       "      <td>St. Mary Magdalen</td>\n",
       "      <td>259</td>\n",
       "      <td>244</td>\n",
       "      <td>Southwark and Vauxhall Water Company only.</td>\n",
       "    </tr>\n",
       "  </tbody>\n",
       "</table>\n",
       "</div>"
      ],
      "text/plain": [
       "            Sub-Districts  Deaths from Cholera in 1849  \\\n",
       "0  St. Saviour, Southwark                          283   \n",
       "1               St. Olvae                          157   \n",
       "2   St. John, Horsleydown                          192   \n",
       "3   St. James, Bermondsey                          249   \n",
       "4       St. Mary Magdalen                          259   \n",
       "\n",
       "  Deaths from Cholera in 1854                                Water Supply  \n",
       "0                         371  Southwark and Vauxhall Water Company only.  \n",
       "1                         161  Southwark and Vauxhall Water Company only.  \n",
       "2                         148  Southwark and Vauxhall Water Company only.  \n",
       "3                         362  Southwark and Vauxhall Water Company only.  \n",
       "4                         244  Southwark and Vauxhall Water Company only.  "
      ]
     },
     "execution_count": 85,
     "metadata": {},
     "output_type": "execute_result"
    }
   ],
   "source": [
    "table_12_1_df = pd.DataFrame({'Sub-Districts': sub_districts_12,\n",
    "              'Deaths from Cholera in 1849': deaths_1849_12,\n",
    "              'Deaths from Cholera in 1854': deaths_1854_12,\n",
    "              'Water Supply': water_supply_12})\n",
    "\n",
    "table_12_1_df.head()"
   ]
  },
  {
   "cell_type": "markdown",
   "metadata": {},
   "source": [
    "Now lets get the second part of this table"
   ]
  },
  {
   "cell_type": "code",
   "execution_count": 89,
   "metadata": {},
   "outputs": [
    {
     "data": {
      "text/html": [
       "<div>\n",
       "<style scoped>\n",
       "    .dataframe tbody tr th:only-of-type {\n",
       "        vertical-align: middle;\n",
       "    }\n",
       "\n",
       "    .dataframe tbody tr th {\n",
       "        vertical-align: top;\n",
       "    }\n",
       "\n",
       "    .dataframe thead th {\n",
       "        text-align: right;\n",
       "    }\n",
       "</style>\n",
       "<table border=\"1\" class=\"dataframe\">\n",
       "  <thead>\n",
       "    <tr style=\"text-align: right;\">\n",
       "      <th></th>\n",
       "      <th>Deaths from Cholera in 1849</th>\n",
       "      <th>Deaths from Cholera in 1854</th>\n",
       "    </tr>\n",
       "    <tr>\n",
       "      <th>Water Supply</th>\n",
       "      <th></th>\n",
       "      <th></th>\n",
       "    </tr>\n",
       "  </thead>\n",
       "  <tbody>\n",
       "    <tr>\n",
       "      <th>Southwark and Vauxhall Water Company only.</th>\n",
       "      <td>2261</td>\n",
       "      <td>2458</td>\n",
       "    </tr>\n",
       "    <tr>\n",
       "      <th>Lambeth Water Company, and Southwark and Vauxhall Company.</th>\n",
       "      <td>3905</td>\n",
       "      <td>2547</td>\n",
       "    </tr>\n",
       "    <tr>\n",
       "      <th>Lambeth Water Company only.</th>\n",
       "      <td>162</td>\n",
       "      <td>37</td>\n",
       "    </tr>\n",
       "  </tbody>\n",
       "</table>\n",
       "</div>"
      ],
      "text/plain": [
       "                                                    Deaths from Cholera in 1849  \\\n",
       "Water Supply                                                                      \n",
       "Southwark and Vauxhall Water Company only.                                 2261   \n",
       "Lambeth Water Company, and Southwark and Vauxha...                         3905   \n",
       "Lambeth Water Company only.                                                 162   \n",
       "\n",
       "                                                   Deaths from Cholera in 1854  \n",
       "Water Supply                                                                    \n",
       "Southwark and Vauxhall Water Company only.                                2458  \n",
       "Lambeth Water Company, and Southwark and Vauxha...                        2547  \n",
       "Lambeth Water Company only.                                                 37  "
      ]
     },
     "execution_count": 89,
     "metadata": {},
     "output_type": "execute_result"
    }
   ],
   "source": [
    "table_12_2_df = table_12_1_df.groupby('Water Supply').agg({\"Deaths from Cholera in 1849\": sum,\n",
    "                                           \"Deaths from Cholera in 1854\": sum}).sort_index(ascending=False)\n",
    "\n",
    "table_12_2_df"
   ]
  },
  {
   "cell_type": "markdown",
   "metadata": {},
   "source": [
    "\n",
    "##### table 13: 1854 epidemic, 15 weeks ending october 21, death comparision by chealsea water company and southvark water company. \n"
   ]
  },
  {
   "cell_type": "code",
   "execution_count": 77,
   "metadata": {},
   "outputs": [],
   "source": [
    "water_supply_13 = [\"Chelsea, south\", \"Chelsea, north-west\", \"Chelsea, north-east\", \"Belgrave\", \"St. John, Westminster\", \n",
    "                   \"St. Margaret, Westminster\", \"Total of districts supplied by the Chelsea Water Company\", \n",
    "                   \"Houses supplied by the Southwark and Vauxhall Company\", \"London\", \n",
    "                   \"London, except the houses supplied by the Chelsea Company, and by the Southwark & Vauxhall Compy.\"]\n",
    "\n",
    "population_1851_13 = [19_050, 17_669, 19_819, 40_034, 34_295, 31_314, 162_181, 266_516, 2_362_236, 1_933_539]\n",
    "\n",
    "deaths_in_15_wks_13 = [122,99,71,238,173,238,941,2_900,10_530,6_689]\n",
    "\n",
    "death_per_10000_13 = [64,56,36,59,50,76,56,108,45,34]"
   ]
  },
  {
   "cell_type": "code",
   "execution_count": 78,
   "metadata": {},
   "outputs": [
    {
     "data": {
      "text/html": [
       "<div>\n",
       "<style scoped>\n",
       "    .dataframe tbody tr th:only-of-type {\n",
       "        vertical-align: middle;\n",
       "    }\n",
       "\n",
       "    .dataframe tbody tr th {\n",
       "        vertical-align: top;\n",
       "    }\n",
       "\n",
       "    .dataframe thead th {\n",
       "        text-align: right;\n",
       "    }\n",
       "</style>\n",
       "<table border=\"1\" class=\"dataframe\">\n",
       "  <thead>\n",
       "    <tr style=\"text-align: right;\">\n",
       "      <th></th>\n",
       "      <th></th>\n",
       "      <th>Population in 1851</th>\n",
       "      <th>Deaths by Cholera In 15 wks. ending October 21</th>\n",
       "      <th>Deaths by Cholera To every 10,000 living</th>\n",
       "    </tr>\n",
       "  </thead>\n",
       "  <tbody>\n",
       "    <tr>\n",
       "      <th>0</th>\n",
       "      <td>Chelsea, south</td>\n",
       "      <td>19050</td>\n",
       "      <td>122</td>\n",
       "      <td>64</td>\n",
       "    </tr>\n",
       "    <tr>\n",
       "      <th>1</th>\n",
       "      <td>Chelsea, north-west</td>\n",
       "      <td>17669</td>\n",
       "      <td>99</td>\n",
       "      <td>56</td>\n",
       "    </tr>\n",
       "    <tr>\n",
       "      <th>2</th>\n",
       "      <td>Chelsea, north-east</td>\n",
       "      <td>19819</td>\n",
       "      <td>71</td>\n",
       "      <td>36</td>\n",
       "    </tr>\n",
       "    <tr>\n",
       "      <th>3</th>\n",
       "      <td>Belgrave</td>\n",
       "      <td>40034</td>\n",
       "      <td>238</td>\n",
       "      <td>59</td>\n",
       "    </tr>\n",
       "    <tr>\n",
       "      <th>4</th>\n",
       "      <td>St. John, Westminster</td>\n",
       "      <td>34295</td>\n",
       "      <td>173</td>\n",
       "      <td>50</td>\n",
       "    </tr>\n",
       "    <tr>\n",
       "      <th>5</th>\n",
       "      <td>St. Margaret, Westminster</td>\n",
       "      <td>31314</td>\n",
       "      <td>238</td>\n",
       "      <td>76</td>\n",
       "    </tr>\n",
       "    <tr>\n",
       "      <th>6</th>\n",
       "      <td>Total of districts supplied by the Chelsea Wat...</td>\n",
       "      <td>162181</td>\n",
       "      <td>941</td>\n",
       "      <td>56</td>\n",
       "    </tr>\n",
       "    <tr>\n",
       "      <th>7</th>\n",
       "      <td>Houses supplied by the Southwark and Vauxhall ...</td>\n",
       "      <td>266516</td>\n",
       "      <td>2900</td>\n",
       "      <td>108</td>\n",
       "    </tr>\n",
       "    <tr>\n",
       "      <th>8</th>\n",
       "      <td>London</td>\n",
       "      <td>2362236</td>\n",
       "      <td>10530</td>\n",
       "      <td>45</td>\n",
       "    </tr>\n",
       "    <tr>\n",
       "      <th>9</th>\n",
       "      <td>London, except the houses supplied by the Chel...</td>\n",
       "      <td>1933539</td>\n",
       "      <td>6689</td>\n",
       "      <td>34</td>\n",
       "    </tr>\n",
       "  </tbody>\n",
       "</table>\n",
       "</div>"
      ],
      "text/plain": [
       "                                                      Population in 1851  \\\n",
       "0                                     Chelsea, south               19050   \n",
       "1                                Chelsea, north-west               17669   \n",
       "2                                Chelsea, north-east               19819   \n",
       "3                                           Belgrave               40034   \n",
       "4                              St. John, Westminster               34295   \n",
       "5                          St. Margaret, Westminster               31314   \n",
       "6  Total of districts supplied by the Chelsea Wat...              162181   \n",
       "7  Houses supplied by the Southwark and Vauxhall ...              266516   \n",
       "8                                             London             2362236   \n",
       "9  London, except the houses supplied by the Chel...             1933539   \n",
       "\n",
       "   Deaths by Cholera In 15 wks. ending October 21  \\\n",
       "0                                             122   \n",
       "1                                              99   \n",
       "2                                              71   \n",
       "3                                             238   \n",
       "4                                             173   \n",
       "5                                             238   \n",
       "6                                             941   \n",
       "7                                            2900   \n",
       "8                                           10530   \n",
       "9                                            6689   \n",
       "\n",
       "   Deaths by Cholera To every 10,000 living  \n",
       "0                                        64  \n",
       "1                                        56  \n",
       "2                                        36  \n",
       "3                                        59  \n",
       "4                                        50  \n",
       "5                                        76  \n",
       "6                                        56  \n",
       "7                                       108  \n",
       "8                                        45  \n",
       "9                                        34  "
      ]
     },
     "execution_count": 78,
     "metadata": {},
     "output_type": "execute_result"
    }
   ],
   "source": [
    "table_13_1_df = pd.DataFrame({\"\":water_supply_13,\n",
    "              \"Population in 1851\": population_1851_13,\n",
    "               \"Deaths by Cholera In 15 wks. ending October 21\": deaths_in_15_wks_13,\n",
    "                \"Deaths by Cholera To every 10,000 living\": death_per_10000_13 })\n",
    "\n",
    "table_13_1_df"
   ]
  },
  {
   "cell_type": "markdown",
   "metadata": {},
   "source": [
    "\n",
    "##### table 13.1 (unnumbered table): showing london and other city populations that were hit by the epidemic\n"
   ]
  },
  {
   "cell_type": "code",
   "execution_count": 97,
   "metadata": {},
   "outputs": [],
   "source": [
    "number_of_places = [52, 43, 33, 34]\n",
    "duration_in_days = ['0 to 50', '50 to 100', '100 and upwards', '100 and upwards']\n",
    "average_population = [6624, 12624, 38123, 78823]"
   ]
  },
  {
   "cell_type": "markdown",
   "metadata": {},
   "source": [
    "note: its misprinted in the digital pamplet '50 to 100000' instead of '50 to 100'"
   ]
  },
  {
   "cell_type": "code",
   "execution_count": 98,
   "metadata": {},
   "outputs": [
    {
     "data": {
      "text/html": [
       "<div>\n",
       "<style scoped>\n",
       "    .dataframe tbody tr th:only-of-type {\n",
       "        vertical-align: middle;\n",
       "    }\n",
       "\n",
       "    .dataframe tbody tr th {\n",
       "        vertical-align: top;\n",
       "    }\n",
       "\n",
       "    .dataframe thead th {\n",
       "        text-align: right;\n",
       "    }\n",
       "</style>\n",
       "<table border=\"1\" class=\"dataframe\">\n",
       "  <thead>\n",
       "    <tr style=\"text-align: right;\">\n",
       "      <th></th>\n",
       "      <th>No. of Places</th>\n",
       "      <th>Duration in Days</th>\n",
       "      <th>Average Population</th>\n",
       "    </tr>\n",
       "  </thead>\n",
       "  <tbody>\n",
       "    <tr>\n",
       "      <th>0</th>\n",
       "      <td>52</td>\n",
       "      <td>0 to 50</td>\n",
       "      <td>6624</td>\n",
       "    </tr>\n",
       "    <tr>\n",
       "      <th>1</th>\n",
       "      <td>43</td>\n",
       "      <td>50 to 100</td>\n",
       "      <td>12624</td>\n",
       "    </tr>\n",
       "    <tr>\n",
       "      <th>2</th>\n",
       "      <td>33</td>\n",
       "      <td>100 and upwards</td>\n",
       "      <td>38123</td>\n",
       "    </tr>\n",
       "    <tr>\n",
       "      <th>3</th>\n",
       "      <td>34</td>\n",
       "      <td>100 and upwards</td>\n",
       "      <td>78823</td>\n",
       "    </tr>\n",
       "  </tbody>\n",
       "</table>\n",
       "</div>"
      ],
      "text/plain": [
       "   No. of Places Duration in Days  Average Population\n",
       "0             52          0 to 50                6624\n",
       "1             43        50 to 100               12624\n",
       "2             33  100 and upwards               38123\n",
       "3             34  100 and upwards               78823"
      ]
     },
     "execution_count": 98,
     "metadata": {},
     "output_type": "execute_result"
    }
   ],
   "source": [
    "table_13_1_df = pd.DataFrame({'No. of Places': number_of_places,\n",
    "              'Duration in Days': duration_in_days,\n",
    "              'Average Population': average_population})\n",
    "\n",
    "table_13_1_df"
   ]
  },
  {
   "cell_type": "markdown",
   "metadata": {},
   "source": [
    "\n",
    "##### table 14: cholera deaths by occupation (which year? 1854?)\n",
    "\n"
   ]
  },
  {
   "cell_type": "code",
   "execution_count": 90,
   "metadata": {},
   "outputs": [],
   "source": [
    "index_14 = ['Agents', 'Bricklayers and builders', 'Cowkeepers, dairymen, and milkmen', 'Egg merchants', \n",
    "         'Fishmongers','Fruiterers and greengrocers', 'Jobmasters, livery-stable keepers', 'Oilmen', \n",
    "         'Paper-makers', 'Poulterers', 'Sail-makers', 'Turners', 'Ballast-heavers', \n",
    "         'Coal-porters and coal-heavers', 'Dustmen and scavengers', 'Founders', 'Hawkers, etc', \n",
    "         'Lithographers', 'Modellers', 'Polishers', 'Sailors, including Greenwich pensioners', \n",
    "         'Tanners', 'Weavers', 'Physicians, surgeoons & general practioners', \n",
    "         'Magistrates, barristers, conveyancers, and attorneys', 'Merchants', 'Auctioners', \n",
    "         'Saddlers', 'Brass-finishers', 'Coach-makers', 'Cork-cutters',\n",
    "         'Footmen and men-servants', 'Jewellers, goldsmiths, and silversmiths', 'Millwrights',\n",
    "         'Tallow-chandlers', 'Type-founders', 'Undertakers', 'Warehousemen', \n",
    "         'Watchmakers', 'Wheelwrights']\n",
    "\n",
    "no_of_deaths = [12,14,8,5,11,12,5,13,2,3,2,2,7,53,6,10,67,3,3,4,\n",
    "                299,22,102,16,13,11,1,1,3,16,2,25,6,2,2,1,2,8,11,8]\n",
    "\n",
    "ratio_numbers = [49,39,20,6,20,28,37,46,15,32,30,50,24,32,39,12,22,48,41,36,24,39,36,\n",
    "                 265,375,348,266,250,318,262,279,1572,583,266,430,390,325,472,364,294]\n",
    "\n",
    "ratio = [f'1 in {x}' for x in ratio_numbers]"
   ]
  },
  {
   "cell_type": "code",
   "execution_count": 91,
   "metadata": {},
   "outputs": [
    {
     "data": {
      "text/plain": [
       "(40, 40, 40)"
      ]
     },
     "execution_count": 91,
     "metadata": {},
     "output_type": "execute_result"
    }
   ],
   "source": [
    "# sanity check\n",
    "\n",
    "len(index_14), len(no_of_deaths), len(ratio)"
   ]
  },
  {
   "cell_type": "code",
   "execution_count": 92,
   "metadata": {},
   "outputs": [
    {
     "data": {
      "text/html": [
       "<div>\n",
       "<style scoped>\n",
       "    .dataframe tbody tr th:only-of-type {\n",
       "        vertical-align: middle;\n",
       "    }\n",
       "\n",
       "    .dataframe tbody tr th {\n",
       "        vertical-align: top;\n",
       "    }\n",
       "\n",
       "    .dataframe thead th {\n",
       "        text-align: right;\n",
       "    }\n",
       "</style>\n",
       "<table border=\"1\" class=\"dataframe\">\n",
       "  <thead>\n",
       "    <tr style=\"text-align: right;\">\n",
       "      <th></th>\n",
       "      <th>No. of Deaths</th>\n",
       "      <th>Ratio</th>\n",
       "    </tr>\n",
       "  </thead>\n",
       "  <tbody>\n",
       "    <tr>\n",
       "      <th>Agents</th>\n",
       "      <td>12</td>\n",
       "      <td>1 in 49</td>\n",
       "    </tr>\n",
       "    <tr>\n",
       "      <th>Bricklayers and builders</th>\n",
       "      <td>14</td>\n",
       "      <td>1 in 39</td>\n",
       "    </tr>\n",
       "    <tr>\n",
       "      <th>Cowkeepers, dairymen, and milkmen</th>\n",
       "      <td>8</td>\n",
       "      <td>1 in 20</td>\n",
       "    </tr>\n",
       "    <tr>\n",
       "      <th>Egg merchants</th>\n",
       "      <td>5</td>\n",
       "      <td>1 in 6</td>\n",
       "    </tr>\n",
       "    <tr>\n",
       "      <th>Fishmongers</th>\n",
       "      <td>11</td>\n",
       "      <td>1 in 20</td>\n",
       "    </tr>\n",
       "  </tbody>\n",
       "</table>\n",
       "</div>"
      ],
      "text/plain": [
       "                                   No. of Deaths    Ratio\n",
       "Agents                                        12  1 in 49\n",
       "Bricklayers and builders                      14  1 in 39\n",
       "Cowkeepers, dairymen, and milkmen              8  1 in 20\n",
       "Egg merchants                                  5   1 in 6\n",
       "Fishmongers                                   11  1 in 20"
      ]
     },
     "execution_count": 92,
     "metadata": {},
     "output_type": "execute_result"
    }
   ],
   "source": [
    "table_14_df = pd.DataFrame({'No. of Deaths': no_of_deaths,\n",
    "              'Ratio': ratio}, index=index_14)\n",
    "\n",
    "table_14_df.head()"
   ]
  },
  {
   "cell_type": "code",
   "execution_count": 95,
   "metadata": {},
   "outputs": [],
   "source": [
    "table_14_modified = table_14_df.copy()\n",
    "\n",
    "table_14_modified['Ratio in decimal'] = table_14_df['Ratio'].apply(lambda x:  1 / int(x.split()[-1]))"
   ]
  },
  {
   "cell_type": "code",
   "execution_count": 97,
   "metadata": {},
   "outputs": [
    {
     "data": {
      "text/html": [
       "<div>\n",
       "<style scoped>\n",
       "    .dataframe tbody tr th:only-of-type {\n",
       "        vertical-align: middle;\n",
       "    }\n",
       "\n",
       "    .dataframe tbody tr th {\n",
       "        vertical-align: top;\n",
       "    }\n",
       "\n",
       "    .dataframe thead th {\n",
       "        text-align: right;\n",
       "    }\n",
       "</style>\n",
       "<table border=\"1\" class=\"dataframe\">\n",
       "  <thead>\n",
       "    <tr style=\"text-align: right;\">\n",
       "      <th></th>\n",
       "      <th>No. of Deaths</th>\n",
       "      <th>Ratio</th>\n",
       "      <th>Ratio in decimal</th>\n",
       "    </tr>\n",
       "  </thead>\n",
       "  <tbody>\n",
       "    <tr>\n",
       "      <th>Agents</th>\n",
       "      <td>12</td>\n",
       "      <td>1 in 49</td>\n",
       "      <td>0.020408</td>\n",
       "    </tr>\n",
       "    <tr>\n",
       "      <th>Bricklayers and builders</th>\n",
       "      <td>14</td>\n",
       "      <td>1 in 39</td>\n",
       "      <td>0.025641</td>\n",
       "    </tr>\n",
       "    <tr>\n",
       "      <th>Cowkeepers, dairymen, and milkmen</th>\n",
       "      <td>8</td>\n",
       "      <td>1 in 20</td>\n",
       "      <td>0.050000</td>\n",
       "    </tr>\n",
       "    <tr>\n",
       "      <th>Egg merchants</th>\n",
       "      <td>5</td>\n",
       "      <td>1 in 6</td>\n",
       "      <td>0.166667</td>\n",
       "    </tr>\n",
       "    <tr>\n",
       "      <th>Fishmongers</th>\n",
       "      <td>11</td>\n",
       "      <td>1 in 20</td>\n",
       "      <td>0.050000</td>\n",
       "    </tr>\n",
       "  </tbody>\n",
       "</table>\n",
       "</div>"
      ],
      "text/plain": [
       "                                   No. of Deaths    Ratio  Ratio in decimal\n",
       "Agents                                        12  1 in 49          0.020408\n",
       "Bricklayers and builders                      14  1 in 39          0.025641\n",
       "Cowkeepers, dairymen, and milkmen              8  1 in 20          0.050000\n",
       "Egg merchants                                  5   1 in 6          0.166667\n",
       "Fishmongers                                   11  1 in 20          0.050000"
      ]
     },
     "execution_count": 97,
     "metadata": {},
     "output_type": "execute_result"
    }
   ],
   "source": [
    "table_14_modified.head()"
   ]
  },
  {
   "cell_type": "code",
   "execution_count": 99,
   "metadata": {},
   "outputs": [
    {
     "data": {
      "text/html": [
       "<div>\n",
       "<style scoped>\n",
       "    .dataframe tbody tr th:only-of-type {\n",
       "        vertical-align: middle;\n",
       "    }\n",
       "\n",
       "    .dataframe tbody tr th {\n",
       "        vertical-align: top;\n",
       "    }\n",
       "\n",
       "    .dataframe thead th {\n",
       "        text-align: right;\n",
       "    }\n",
       "</style>\n",
       "<table border=\"1\" class=\"dataframe\">\n",
       "  <thead>\n",
       "    <tr style=\"text-align: right;\">\n",
       "      <th></th>\n",
       "      <th>No. of Deaths</th>\n",
       "      <th>Ratio</th>\n",
       "      <th>Ratio in decimal</th>\n",
       "    </tr>\n",
       "  </thead>\n",
       "  <tbody>\n",
       "    <tr>\n",
       "      <th>Footmen and men-servants</th>\n",
       "      <td>25</td>\n",
       "      <td>1 in 1572</td>\n",
       "      <td>0.000636</td>\n",
       "    </tr>\n",
       "  </tbody>\n",
       "</table>\n",
       "</div>"
      ],
      "text/plain": [
       "                          No. of Deaths      Ratio  Ratio in decimal\n",
       "Footmen and men-servants             25  1 in 1572          0.000636"
      ]
     },
     "execution_count": 99,
     "metadata": {},
     "output_type": "execute_result"
    }
   ],
   "source": [
    "table_14_modified[table_14_modified['Ratio in decimal'] == table_14_modified['Ratio in decimal'].min()]"
   ]
  },
  {
   "cell_type": "code",
   "execution_count": 100,
   "metadata": {},
   "outputs": [
    {
     "data": {
      "text/html": [
       "<div>\n",
       "<style scoped>\n",
       "    .dataframe tbody tr th:only-of-type {\n",
       "        vertical-align: middle;\n",
       "    }\n",
       "\n",
       "    .dataframe tbody tr th {\n",
       "        vertical-align: top;\n",
       "    }\n",
       "\n",
       "    .dataframe thead th {\n",
       "        text-align: right;\n",
       "    }\n",
       "</style>\n",
       "<table border=\"1\" class=\"dataframe\">\n",
       "  <thead>\n",
       "    <tr style=\"text-align: right;\">\n",
       "      <th></th>\n",
       "      <th>No. of Deaths</th>\n",
       "      <th>Ratio</th>\n",
       "      <th>Ratio in decimal</th>\n",
       "    </tr>\n",
       "  </thead>\n",
       "  <tbody>\n",
       "    <tr>\n",
       "      <th>Egg merchants</th>\n",
       "      <td>5</td>\n",
       "      <td>1 in 6</td>\n",
       "      <td>0.166667</td>\n",
       "    </tr>\n",
       "  </tbody>\n",
       "</table>\n",
       "</div>"
      ],
      "text/plain": [
       "               No. of Deaths   Ratio  Ratio in decimal\n",
       "Egg merchants              5  1 in 6          0.166667"
      ]
     },
     "execution_count": 100,
     "metadata": {},
     "output_type": "execute_result"
    }
   ],
   "source": [
    "table_14_modified[table_14_modified['Ratio in decimal'] == table_14_modified['Ratio in decimal'].max()]"
   ]
  }
 ],
 "metadata": {
  "kernelspec": {
   "display_name": "venv",
   "language": "python",
   "name": "python3"
  },
  "language_info": {
   "codemirror_mode": {
    "name": "ipython",
    "version": 3
   },
   "file_extension": ".py",
   "mimetype": "text/x-python",
   "name": "python",
   "nbconvert_exporter": "python",
   "pygments_lexer": "ipython3",
   "version": "3.8.10"
  }
 },
 "nbformat": 4,
 "nbformat_minor": 2
}
