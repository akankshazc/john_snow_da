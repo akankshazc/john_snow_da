{
 "cells": [
  {
   "cell_type": "code",
   "execution_count": 35,
   "metadata": {},
   "outputs": [],
   "source": [
    "import pandas as pd\n",
    "import numpy as np\n",
    "from collections import defaultdict"
   ]
  },
  {
   "cell_type": "markdown",
   "metadata": {},
   "source": [
    "This is case by case data of Table 7, given in the appendix of \"On the mode of communication of cholera\" by Dr. Snow. I copied the data into a text file and the following the code to convert that data into a tabulated form. "
   ]
  },
  {
   "cell_type": "code",
   "execution_count": 42,
   "metadata": {},
   "outputs": [],
   "source": [
    "file_name = 'table_7_death_data'\n",
    "\n",
    "with open(file_name, \"r\") as file:\n",
    "    content = file.read()"
   ]
  },
  {
   "cell_type": "code",
   "execution_count": 43,
   "metadata": {},
   "outputs": [],
   "source": [
    "case_dict = defaultdict(lambda: [])"
   ]
  },
  {
   "cell_type": "code",
   "execution_count": 44,
   "metadata": {},
   "outputs": [
    {
     "data": {
      "text/plain": [
       "32"
      ]
     },
     "execution_count": 44,
     "metadata": {},
     "output_type": "execute_result"
    }
   ],
   "source": [
    "len(content.split('District:')[1:])"
   ]
  },
  {
   "cell_type": "markdown",
   "metadata": {},
   "source": [
    "So we have data for all 32 subdistricts (12 supplied by Southwark, 16 by both and 4 by Lambeth)"
   ]
  },
  {
   "cell_type": "code",
   "execution_count": 45,
   "metadata": {},
   "outputs": [],
   "source": [
    "content = content.split('District:')[1:]"
   ]
  },
  {
   "cell_type": "code",
   "execution_count": 46,
   "metadata": {},
   "outputs": [
    {
     "data": {
      "text/plain": [
       "'St. Saviour, Southwark: Christchurch:\\n\\nAt 34, Charlotte Street, on 29th July, a stock-maker, aged 29, \"Asiatic cholera 18 hours\". Lambeth.\\n\\nAt 45, Gravel Lane, on 1st August, the widow of a farmer, aged 48, \"cholera 12 hours\". Southwark and Vauxhall.\\n\\nAt 1, Alpha Place, on 1st August, a barrister\\'s clerk, aged 57, \"cholera 24 hours\". Southwark and Vauxhall.\\n\\n'"
      ]
     },
     "execution_count": 46,
     "metadata": {},
     "output_type": "execute_result"
    }
   ],
   "source": [
    "content[0]"
   ]
  },
  {
   "cell_type": "code",
   "execution_count": 47,
   "metadata": {},
   "outputs": [
    {
     "data": {
      "text/plain": [
       "['St. Saviour, Southwark',\n",
       " 'St. Saviour, Southwark',\n",
       " 'St. Olave, Southwark',\n",
       " 'St. Olave, Southwark',\n",
       " 'Bermondsey',\n",
       " 'Bermondsey',\n",
       " 'Bermondsey',\n",
       " 'St. George, Southwark',\n",
       " 'St. George, Southwark',\n",
       " 'St. George, Southwark',\n",
       " 'Newington',\n",
       " 'Newington',\n",
       " 'Newington',\n",
       " 'Lambeth',\n",
       " 'Lambeth',\n",
       " 'Lambeth',\n",
       " 'Lambeth',\n",
       " 'Lambeth',\n",
       " 'Lambeth',\n",
       " 'Lambeth',\n",
       " 'Lambeth',\n",
       " 'Wandsworth',\n",
       " 'Wandsworth',\n",
       " 'Wandsworth',\n",
       " 'Wandsworth',\n",
       " 'Wandsworth',\n",
       " 'Camberwell',\n",
       " 'Camberwell',\n",
       " 'Camberwell',\n",
       " 'Camberwell',\n",
       " 'Rotherhithe',\n",
       " 'Lewisham']"
      ]
     },
     "execution_count": 47,
     "metadata": {},
     "output_type": "execute_result"
    }
   ],
   "source": [
    "districts = [data.split(':')[0] for data in content]\n",
    "districts"
   ]
  },
  {
   "cell_type": "markdown",
   "metadata": {},
   "source": [
    "Now for subdistricts:"
   ]
  },
  {
   "cell_type": "code",
   "execution_count": 54,
   "metadata": {},
   "outputs": [
    {
     "data": {
      "text/plain": [
       "['Christchurch',\n",
       " 'St. Saviour',\n",
       " 'St. Olave',\n",
       " 'St. John, Horsleydown',\n",
       " 'St. James',\n",
       " 'St. Mary Magdalen',\n",
       " 'Leather Market',\n",
       " 'Kent Road',\n",
       " 'Borough Road',\n",
       " 'London Road',\n",
       " 'Trinity',\n",
       " 'St. Peter, Walworth',\n",
       " 'St. Mary',\n",
       " 'Waterloo (First Part)',\n",
       " 'Waterloo (Second Part)',\n",
       " 'Lambeth Church (First Part)',\n",
       " 'Lambeth Church (Second Part)',\n",
       " 'Kennington (First Part)',\n",
       " 'Kennington (2nd Part)',\n",
       " 'Brixton',\n",
       " 'Norwood',\n",
       " 'Clapham',\n",
       " 'Battersea',\n",
       " 'Wandsworth',\n",
       " 'Putney',\n",
       " 'Streatham',\n",
       " 'Dulwich',\n",
       " 'Camberwell',\n",
       " 'Peckham',\n",
       " 'St. George',\n",
       " 'Rotherhithe',\n",
       " 'Sydenham']"
      ]
     },
     "execution_count": 54,
     "metadata": {},
     "output_type": "execute_result"
    }
   ],
   "source": [
    "sub_districts = [data.split(':')[1][1:] for data in content] \n",
    "sub_districts"
   ]
  },
  {
   "cell_type": "markdown",
   "metadata": {},
   "source": [
    "So we have the Districts and sub districts"
   ]
  },
  {
   "cell_type": "code",
   "execution_count": 57,
   "metadata": {},
   "outputs": [
    {
     "data": {
      "text/plain": [
       "(('St. Saviour, Southwark', 'Christchurch'),\n",
       " ('St. Saviour, Southwark', 'St. Saviour'),\n",
       " ('St. Olave, Southwark', 'St. Olave'),\n",
       " ('St. Olave, Southwark', 'St. John, Horsleydown'),\n",
       " ('Bermondsey', 'St. James'),\n",
       " ('Bermondsey', 'St. Mary Magdalen'),\n",
       " ('Bermondsey', 'Leather Market'),\n",
       " ('St. George, Southwark', 'Kent Road'),\n",
       " ('St. George, Southwark', 'Borough Road'),\n",
       " ('St. George, Southwark', 'London Road'),\n",
       " ('Newington', 'Trinity'),\n",
       " ('Newington', 'St. Peter, Walworth'),\n",
       " ('Newington', 'St. Mary'),\n",
       " ('Lambeth', 'Waterloo (First Part)'),\n",
       " ('Lambeth', 'Waterloo (Second Part)'),\n",
       " ('Lambeth', 'Lambeth Church (First Part)'),\n",
       " ('Lambeth', 'Lambeth Church (Second Part)'),\n",
       " ('Lambeth', 'Kennington (First Part)'),\n",
       " ('Lambeth', 'Kennington (2nd Part)'),\n",
       " ('Lambeth', 'Brixton'),\n",
       " ('Lambeth', 'Norwood'),\n",
       " ('Wandsworth', 'Clapham'),\n",
       " ('Wandsworth', 'Battersea'),\n",
       " ('Wandsworth', 'Wandsworth'),\n",
       " ('Wandsworth', 'Putney'),\n",
       " ('Wandsworth', 'Streatham'),\n",
       " ('Camberwell', 'Dulwich'),\n",
       " ('Camberwell', 'Camberwell'),\n",
       " ('Camberwell', 'Peckham'),\n",
       " ('Camberwell', 'St. George'),\n",
       " ('Rotherhithe', 'Rotherhithe'),\n",
       " ('Lewisham', 'Sydenham'))"
      ]
     },
     "execution_count": 57,
     "metadata": {},
     "output_type": "execute_result"
    }
   ],
   "source": [
    "dis_sub_dis = tuple(zip(districts, sub_districts))\n",
    "dis_sub_dis"
   ]
  },
  {
   "cell_type": "markdown",
   "metadata": {},
   "source": [
    "Now lets make a case dictionary"
   ]
  },
  {
   "cell_type": "code",
   "execution_count": 60,
   "metadata": {},
   "outputs": [
    {
     "data": {
      "text/plain": [
       "['At 34, Charlotte Street, on 29th July, a stock-maker, aged 29, \"Asiatic cholera 18 hours\". Lambeth.',\n",
       " 'At 45, Gravel Lane, on 1st August, the widow of a farmer, aged 48, \"cholera 12 hours\". Southwark and Vauxhall.',\n",
       " 'At 1, Alpha Place, on 1st August, a barrister\\'s clerk, aged 57, \"cholera 24 hours\". Southwark and Vauxhall.']"
      ]
     },
     "execution_count": 60,
     "metadata": {},
     "output_type": "execute_result"
    }
   ],
   "source": [
    "content[0].split('\\n\\n')[1:-1]"
   ]
  },
  {
   "cell_type": "code",
   "execution_count": 63,
   "metadata": {},
   "outputs": [
    {
     "data": {
      "text/plain": [
       "['St. Saviour, Southwark', ' St. Saviour', '']"
      ]
     },
     "execution_count": 63,
     "metadata": {},
     "output_type": "execute_result"
    }
   ],
   "source": [
    "content[1].split('\\n\\n')[0].split(':')"
   ]
  },
  {
   "cell_type": "code",
   "execution_count": 68,
   "metadata": {},
   "outputs": [],
   "source": [
    "new_case_list = []\n",
    "\n",
    "for case_list in content:\n",
    "    cases = case_list.split('\\n\\n')[1:-1]\n",
    "    district = case_list.split('\\n\\n')[0].split(':')[0]\n",
    "    sub_district = case_list.split('\\n\\n')[0].split(':')[1]\n",
    "    for case in cases:\n",
    "        case = district + ':' + sub_district + ':' + case\n",
    "        new_case_list.append(case)\n",
    "    \n",
    "    "
   ]
  },
  {
   "cell_type": "code",
   "execution_count": 70,
   "metadata": {},
   "outputs": [
    {
     "data": {
      "text/plain": [
       "337"
      ]
     },
     "execution_count": 70,
     "metadata": {},
     "output_type": "execute_result"
    }
   ],
   "source": [
    "len(new_case_list)"
   ]
  },
  {
   "cell_type": "markdown",
   "metadata": {},
   "source": [
    "this should be 334. but there are 3 lines that say \"No deaths from cholera.\""
   ]
  },
  {
   "cell_type": "code",
   "execution_count": 77,
   "metadata": {},
   "outputs": [
    {
     "name": "stdout",
     "output_type": "stream",
     "text": [
      "Lambeth: Norwood:No death from cholera.\n",
      "Wandsworth: Streatham:No death from cholera.\n",
      "Camberwell: Dulwich:No death from cholera.\n"
     ]
    }
   ],
   "source": [
    "for case in new_case_list:\n",
    "    if \"No death from cholera\" in case:\n",
    "        print(case)"
   ]
  },
  {
   "cell_type": "code",
   "execution_count": 78,
   "metadata": {},
   "outputs": [
    {
     "data": {
      "text/plain": [
       "334"
      ]
     },
     "execution_count": 78,
     "metadata": {},
     "output_type": "execute_result"
    }
   ],
   "source": [
    "only_cases = [case for case in new_case_list if \"No death from cholera\" not in case]\n",
    "len(only_cases)"
   ]
  },
  {
   "cell_type": "markdown",
   "metadata": {},
   "source": [
    "so we have our case text."
   ]
  },
  {
   "cell_type": "markdown",
   "metadata": {},
   "source": [
    "lets see the general format of cases:"
   ]
  },
  {
   "cell_type": "code",
   "execution_count": 79,
   "metadata": {},
   "outputs": [
    {
     "data": {
      "text/plain": [
       "['St. Saviour, Southwark: Christchurch:At 34, Charlotte Street, on 29th July, a stock-maker, aged 29, \"Asiatic cholera 18 hours\". Lambeth.',\n",
       " 'St. Saviour, Southwark: Christchurch:At 45, Gravel Lane, on 1st August, the widow of a farmer, aged 48, \"cholera 12 hours\". Southwark and Vauxhall.',\n",
       " 'St. Saviour, Southwark: Christchurch:At 1, Alpha Place, on 1st August, a barrister\\'s clerk, aged 57, \"cholera 24 hours\". Southwark and Vauxhall.',\n",
       " 'St. Saviour, Southwark: St. Saviour:At 1, Park Street, on 25th July, the wife of a labourer, aged 35, \"Asiatic cholera 14½ hours\". Southwark and Vauxhall.',\n",
       " 'St. Saviour, Southwark: St. Saviour:At 40, Bankside, on 25th July, the son of a locksmith, aged 5 years, \"cholera 12 hours\". Southwark and Vauxhall.']"
      ]
     },
     "execution_count": 79,
     "metadata": {},
     "output_type": "execute_result"
    }
   ],
   "source": [
    "only_cases[:5]"
   ]
  }
 ],
 "metadata": {
  "kernelspec": {
   "display_name": "venv",
   "language": "python",
   "name": "python3"
  },
  "language_info": {
   "codemirror_mode": {
    "name": "ipython",
    "version": 3
   },
   "file_extension": ".py",
   "mimetype": "text/x-python",
   "name": "python",
   "nbconvert_exporter": "python",
   "pygments_lexer": "ipython3",
   "version": "3.8.10"
  }
 },
 "nbformat": 4,
 "nbformat_minor": 2
}
